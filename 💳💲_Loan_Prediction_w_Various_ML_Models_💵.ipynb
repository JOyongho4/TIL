{
  "metadata": {
    "kernelspec": {
      "language": "python",
      "display_name": "Python 3",
      "name": "python3"
    },
    "language_info": {
      "pygments_lexer": "ipython3",
      "nbconvert_exporter": "python",
      "version": "3.6.4",
      "file_extension": ".py",
      "codemirror_mode": {
        "name": "ipython",
        "version": 3
      },
      "name": "python",
      "mimetype": "text/x-python"
    },
    "colab": {
      "name": "💳💲 Loan Prediction w/ Various ML Models 💵",
      "provenance": [],
      "include_colab_link": true
    }
  },
  "nbformat_minor": 0,
  "nbformat": 4,
  "cells": [
    {
      "cell_type": "markdown",
      "metadata": {
        "id": "view-in-github",
        "colab_type": "text"
      },
      "source": [
        "<a href=\"https://colab.research.google.com/github/JOyongho4/TIL/blob/main/%F0%9F%92%B3%F0%9F%92%B2_Loan_Prediction_w_Various_ML_Models_%F0%9F%92%B5.ipynb\" target=\"_parent\"><img src=\"https://colab.research.google.com/assets/colab-badge.svg\" alt=\"Open In Colab\"/></a>"
      ]
    },
    {
      "source": [
        "# IMPORTANT: RUN THIS CELL IN ORDER TO IMPORT YOUR KAGGLE DATA SOURCES,\n",
        "# THEN FEEL FREE TO DELETE THIS CELL.\n",
        "# NOTE: THIS NOTEBOOK ENVIRONMENT DIFFERS FROM KAGGLE'S PYTHON\n",
        "# ENVIRONMENT SO THERE MAY BE MISSING LIBRARIES USED BY YOUR\n",
        "# NOTEBOOK.\n",
        "import kagglehub\n",
        "ninzaami_loan_predication_path = kagglehub.dataset_download('ninzaami/loan-predication')\n",
        "burak3ergun_loan_data_set_path = kagglehub.dataset_download('burak3ergun/loan-data-set')\n",
        "sajidvali_loan_prediction_path = kagglehub.dataset_download('sajidvali/loan-prediction')\n",
        "prakharrathi25_loan_prediction_data_path = kagglehub.dataset_download('prakharrathi25/loan-prediction-data')\n",
        "vikasukani_loan_eligible_dataset_path = kagglehub.dataset_download('vikasukani/loan-eligible-dataset')\n",
        "\n",
        "print('Data source import complete.')\n"
      ],
      "metadata": {
        "id": "p9zwFuJErWqJ",
        "outputId": "32aadd44-ff7c-4b02-b3a2-25ea6e3c00c4",
        "colab": {
          "base_uri": "https://localhost:8080/"
        }
      },
      "cell_type": "code",
      "outputs": [
        {
          "output_type": "stream",
          "name": "stdout",
          "text": [
            "Downloading from https://www.kaggle.com/api/v1/datasets/download/ninzaami/loan-predication?dataset_version_number=1...\n"
          ]
        },
        {
          "output_type": "stream",
          "name": "stderr",
          "text": [
            "100%|██████████| 7.83k/7.83k [00:00<00:00, 7.67MB/s]"
          ]
        },
        {
          "output_type": "stream",
          "name": "stdout",
          "text": [
            "Extracting files...\n"
          ]
        },
        {
          "output_type": "stream",
          "name": "stderr",
          "text": [
            "\n"
          ]
        },
        {
          "output_type": "stream",
          "name": "stdout",
          "text": [
            "Downloading from https://www.kaggle.com/api/v1/datasets/download/burak3ergun/loan-data-set?dataset_version_number=1...\n"
          ]
        },
        {
          "output_type": "stream",
          "name": "stderr",
          "text": [
            "100%|██████████| 7.80k/7.80k [00:00<00:00, 9.64MB/s]"
          ]
        },
        {
          "output_type": "stream",
          "name": "stdout",
          "text": [
            "Extracting files...\n"
          ]
        },
        {
          "output_type": "stream",
          "name": "stderr",
          "text": [
            "\n"
          ]
        },
        {
          "output_type": "stream",
          "name": "stdout",
          "text": [
            "Downloading from https://www.kaggle.com/api/v1/datasets/download/sajidvali/loan-prediction?dataset_version_number=1...\n"
          ]
        },
        {
          "output_type": "stream",
          "name": "stderr",
          "text": [
            "100%|██████████| 216k/216k [00:00<00:00, 52.2MB/s]"
          ]
        },
        {
          "output_type": "stream",
          "name": "stdout",
          "text": [
            "Extracting files...\n"
          ]
        },
        {
          "output_type": "stream",
          "name": "stderr",
          "text": [
            "\n"
          ]
        },
        {
          "output_type": "stream",
          "name": "stdout",
          "text": [
            "Downloading from https://www.kaggle.com/api/v1/datasets/download/prakharrathi25/loan-prediction-data?dataset_version_number=1...\n"
          ]
        },
        {
          "output_type": "stream",
          "name": "stderr",
          "text": [
            "100%|██████████| 12.5k/12.5k [00:00<00:00, 16.4MB/s]"
          ]
        },
        {
          "output_type": "stream",
          "name": "stdout",
          "text": [
            "Extracting files...\n"
          ]
        },
        {
          "output_type": "stream",
          "name": "stderr",
          "text": [
            "\n"
          ]
        },
        {
          "output_type": "stream",
          "name": "stdout",
          "text": [
            "Data source import complete.\n"
          ]
        }
      ],
      "execution_count": 1
    },
    {
      "cell_type": "markdown",
      "source": [
        "# 1. Introduction 👋\n",
        "\n",
        "<center><img src=\"https://images.unsplash.com/photo-1553729459-efe14ef6055d?ixid=MnwxMjA3fDB8MHxwaG90by1wYWdlfHx8fGVufDB8fHx8&ixlib=rb-1.2.1&auto=format&fit=crop&w=2070&q=80\" alt=\"Loan Picture\" width=\"600\" height=\"600\"></center><br>\n",
        "\n",
        "## Data Set Problems 🤔\n",
        "\n",
        "👉 The company seeks **to automate (in real time) the loan qualifying procedure** based on information given by customers while filling out an online application form. It is expected that the development of ML models that can help the company predict loan approval in **accelerating decision-making process** for determining whether an applicant is eligible for a loan or not.\n",
        "\n",
        "---\n",
        "\n",
        "## Objectives of Notebook 📌\n",
        "👉 **This notebook aims to:**\n",
        "*   Analyze customer data provided in data set (EDA)\n",
        "*   Build various ML models that can predict loan approval\n",
        "\n",
        "👨‍💻 **The machine learning models used in this project are:**\n",
        "1. Logistic Regression\n",
        "2. K-Nearest Neighbour (KNN)\n",
        "3. Support Vector Machine (SVM)\n",
        "4. Naive Bayes\n",
        "5. Decision Tree\n",
        "6. Random Forest\n",
        "7. Gradient Boost\n",
        "\n",
        "---\n",
        "\n",
        "## Data Set Description 🧾\n",
        "👉 There are **13 variables** in this data set:\n",
        "*   **8 categorical** variables,\n",
        "*   **4 continuous** variables, and\n",
        "*   **1** variable to accommodate the loan ID.\n",
        "\n",
        "<br>\n",
        "\n",
        "👉 The following is the **structure of the data set**.\n",
        "\n",
        "\n",
        "<table style=\"width:100%\">\n",
        "<thead>\n",
        "<tr>\n",
        "<th style=\"text-align:center; font-weight: bold; font-size:14px\">Variable Name</th>\n",
        "<th style=\"text-align:center; font-weight: bold; font-size:14px\">Description</th>\n",
        "<th style=\"text-align:center; font-weight: bold; font-size:14px\">Sample Data</th>\n",
        "</tr>\n",
        "</thead>\n",
        "<tbody>\n",
        "<tr>\n",
        "<td><b>Loan_ID</b></td>\n",
        "<td>Loan reference number <br> (unique ID)</td>\n",
        "<td>LP001002; LP001003; ...</td>\n",
        "</tr>\n",
        "<tr>\n",
        "<td><b>Gender</b></td>\n",
        "<td>Applicant gender <br> (Male or Female)</td>\n",
        "<td>Male; Female</td>\n",
        "</tr>\n",
        "<tr>\n",
        "<td><b>Married</b></td>\n",
        "<td>Applicant marital status <br> (Married or not married)</td>\n",
        "<td>Married; Not Married</td>\n",
        "</tr>\n",
        "<tr>\n",
        "<td><b>Dependents</b></td>\n",
        "<td>Number of family members</td>\n",
        "<td>0; 1; 2; 3+</td>\n",
        "</tr>\n",
        "<tr>\n",
        "<td><b>Education</b></td>\n",
        "<td>Applicant education/qualification <br> (graduate or not graduate)</td>\n",
        "<td>Graduate; Under Graduate</td>\n",
        "</tr>\n",
        "<tr>\n",
        "<td><b>Self_Employed</b></td>\n",
        "<td>Applicant employment status <br> (yes for self-employed, no for employed/others)</td>\n",
        "<td>Yes; No</td>\n",
        "</tr>\n",
        "<tr>\n",
        "<td><b>ApplicantIncome</b></td>\n",
        "<td>Applicant's monthly salary/income</td>\n",
        "<td>5849; 4583; ...</td>\n",
        "</tr>\n",
        "<tr>\n",
        "<td><b>CoapplicantIncome</b></td>\n",
        "<td>Additional applicant's monthly salary/income</td>\n",
        "<td>1508; 2358; ...</td>\n",
        "</tr>\n",
        "<tr>\n",
        "<td><b>LoanAmount</b></td>\n",
        "<td>Loan amount</td>\n",
        "<td>128; 66; ...</td>\n",
        "</tr>\n",
        "<tr>\n",
        "<td><b>Loan_Amount_Term</b></td>\n",
        "<td>The loan's repayment period (in days)</td>\n",
        "<td>360; 120; ...</td>\n",
        "</tr>\n",
        "<tr>\n",
        "<td><b>Credit_History</b></td>\n",
        "<td>Records of previous credit history <br> (0: bad credit history, 1: good credit history)</td>\n",
        "<td>0; 1</td>\n",
        "</tr>\n",
        "<tr>\n",
        "<td><b>Property_Area</b></td>\n",
        "<td>The location of property <br> (Rural/Semiurban/Urban)</td>\n",
        "<td>Rural; Semiurban; Urban</td>\n",
        "</tr>\n",
        "<tr>\n",
        "<td><b>Loan_Status</b></td>\n",
        "<td>Status of loan <br> (Y: accepted, N: not accepted)</td>\n",
        "<td>Y; N</td>\n",
        "</tr>\n",
        "</tbody>\n",
        "</table>\n",
        "\n",
        "---\n",
        "\n",
        "**Like this notebook? You can support me by giving upvote** 😆👍🔼 <br>\n",
        "👉 *More about myself: [linktr.ee/caesarmario_](http://linktr.ee/caesarmario_)*"
      ],
      "metadata": {
        "id": "fJE9JR7JSj8O"
      }
    },
    {
      "cell_type": "markdown",
      "source": [
        "# 2. Importing Libraries 📚\n",
        "👉 Importing libraries that will be used in this notebook."
      ],
      "metadata": {
        "id": "r238zFy8f-xl"
      }
    },
    {
      "cell_type": "code",
      "source": [
        "import numpy as np\n",
        "import pandas as pd\n",
        "import matplotlib.pyplot as plt\n",
        "import missingno as mso\n",
        "import seaborn as sns\n",
        "import warnings\n",
        "import os\n",
        "import scipy\n",
        "\n",
        "from scipy import stats\n",
        "from scipy.stats import pearsonr\n",
        "from scipy.stats import ttest_ind\n",
        "from sklearn.metrics import classification_report\n",
        "from sklearn.metrics import confusion_matrix\n",
        "from sklearn.preprocessing import MinMaxScaler\n",
        "from sklearn.model_selection import train_test_split\n",
        "from imblearn.over_sampling import SMOTE\n",
        "\n",
        "from sklearn.linear_model import LogisticRegression\n",
        "from sklearn.neighbors import KNeighborsClassifier\n",
        "from sklearn.svm import SVC\n",
        "from sklearn.naive_bayes import CategoricalNB\n",
        "from sklearn.naive_bayes import GaussianNB\n",
        "from sklearn.tree import DecisionTreeClassifier\n",
        "from sklearn.ensemble import RandomForestClassifier\n",
        "from sklearn.ensemble import GradientBoostingClassifier\n",
        "from xgboost import XGBClassifier\n",
        "from sklearn.model_selection import GridSearchCV, RandomizedSearchCV"
      ],
      "metadata": {
        "id": "0tAGJPoeKrfI",
        "execution": {
          "iopub.status.busy": "2022-03-08T02:28:35.419717Z",
          "iopub.execute_input": "2022-03-08T02:28:35.420087Z",
          "iopub.status.idle": "2022-03-08T02:28:36.954209Z",
          "shell.execute_reply.started": "2022-03-08T02:28:35.419989Z",
          "shell.execute_reply": "2022-03-08T02:28:36.953237Z"
        },
        "trusted": true
      },
      "execution_count": 2,
      "outputs": []
    },
    {
      "cell_type": "code",
      "source": [
        "#구글드라이브 임포트\n",
        "from google.colab import drive\n",
        "drive.mount('/content/drive')"
      ],
      "metadata": {
        "id": "yUyIx9ZGsRA1",
        "outputId": "d4741f12-003b-48eb-d39c-7cbd10e05478",
        "colab": {
          "base_uri": "https://localhost:8080/"
        }
      },
      "execution_count": 3,
      "outputs": [
        {
          "output_type": "stream",
          "name": "stdout",
          "text": [
            "Mounted at /content/drive\n"
          ]
        }
      ]
    },
    {
      "cell_type": "markdown",
      "source": [
        "# 3. Reading Data Set 👓\n",
        "👉 After importing libraries, we will also import the dataset that will be used."
      ],
      "metadata": {
        "id": "_3IOljdqgEd0"
      }
    },
    {
      "cell_type": "code",
      "source": [
        "df = pd.read_csv(\"/content/drive/MyDrive/loan_data_set.csv\")\n",
        "df.head()"
      ],
      "metadata": {
        "id": "-9VxuECvXJIR",
        "outputId": "733d516e-2ad8-4b12-f55f-efc8f8b0e0b7",
        "execution": {
          "iopub.status.busy": "2022-03-08T02:28:36.956629Z",
          "iopub.execute_input": "2022-03-08T02:28:36.957588Z",
          "iopub.status.idle": "2022-03-08T02:28:37.002723Z",
          "shell.execute_reply.started": "2022-03-08T02:28:36.95753Z",
          "shell.execute_reply": "2022-03-08T02:28:37.001806Z"
        },
        "trusted": true,
        "colab": {
          "base_uri": "https://localhost:8080/",
          "height": 244
        }
      },
      "execution_count": 4,
      "outputs": [
        {
          "output_type": "execute_result",
          "data": {
            "text/plain": [
              "    Loan_ID Gender Married Dependents     Education Self_Employed  \\\n",
              "0  LP001002   Male      No          0      Graduate            No   \n",
              "1  LP001003   Male     Yes          1      Graduate            No   \n",
              "2  LP001005   Male     Yes          0      Graduate           Yes   \n",
              "3  LP001006   Male     Yes          0  Not Graduate            No   \n",
              "4  LP001008   Male      No          0      Graduate            No   \n",
              "\n",
              "   ApplicantIncome  CoapplicantIncome  LoanAmount  Loan_Amount_Term  \\\n",
              "0             5849                0.0         NaN             360.0   \n",
              "1             4583             1508.0       128.0             360.0   \n",
              "2             3000                0.0        66.0             360.0   \n",
              "3             2583             2358.0       120.0             360.0   \n",
              "4             6000                0.0       141.0             360.0   \n",
              "\n",
              "   Credit_History Property_Area Loan_Status  \n",
              "0             1.0         Urban           Y  \n",
              "1             1.0         Rural           N  \n",
              "2             1.0         Urban           Y  \n",
              "3             1.0         Urban           Y  \n",
              "4             1.0         Urban           Y  "
            ],
            "text/html": [
              "\n",
              "  <div id=\"df-6029cb61-6eb9-4546-84dc-aa212f728884\" class=\"colab-df-container\">\n",
              "    <div>\n",
              "<style scoped>\n",
              "    .dataframe tbody tr th:only-of-type {\n",
              "        vertical-align: middle;\n",
              "    }\n",
              "\n",
              "    .dataframe tbody tr th {\n",
              "        vertical-align: top;\n",
              "    }\n",
              "\n",
              "    .dataframe thead th {\n",
              "        text-align: right;\n",
              "    }\n",
              "</style>\n",
              "<table border=\"1\" class=\"dataframe\">\n",
              "  <thead>\n",
              "    <tr style=\"text-align: right;\">\n",
              "      <th></th>\n",
              "      <th>Loan_ID</th>\n",
              "      <th>Gender</th>\n",
              "      <th>Married</th>\n",
              "      <th>Dependents</th>\n",
              "      <th>Education</th>\n",
              "      <th>Self_Employed</th>\n",
              "      <th>ApplicantIncome</th>\n",
              "      <th>CoapplicantIncome</th>\n",
              "      <th>LoanAmount</th>\n",
              "      <th>Loan_Amount_Term</th>\n",
              "      <th>Credit_History</th>\n",
              "      <th>Property_Area</th>\n",
              "      <th>Loan_Status</th>\n",
              "    </tr>\n",
              "  </thead>\n",
              "  <tbody>\n",
              "    <tr>\n",
              "      <th>0</th>\n",
              "      <td>LP001002</td>\n",
              "      <td>Male</td>\n",
              "      <td>No</td>\n",
              "      <td>0</td>\n",
              "      <td>Graduate</td>\n",
              "      <td>No</td>\n",
              "      <td>5849</td>\n",
              "      <td>0.0</td>\n",
              "      <td>NaN</td>\n",
              "      <td>360.0</td>\n",
              "      <td>1.0</td>\n",
              "      <td>Urban</td>\n",
              "      <td>Y</td>\n",
              "    </tr>\n",
              "    <tr>\n",
              "      <th>1</th>\n",
              "      <td>LP001003</td>\n",
              "      <td>Male</td>\n",
              "      <td>Yes</td>\n",
              "      <td>1</td>\n",
              "      <td>Graduate</td>\n",
              "      <td>No</td>\n",
              "      <td>4583</td>\n",
              "      <td>1508.0</td>\n",
              "      <td>128.0</td>\n",
              "      <td>360.0</td>\n",
              "      <td>1.0</td>\n",
              "      <td>Rural</td>\n",
              "      <td>N</td>\n",
              "    </tr>\n",
              "    <tr>\n",
              "      <th>2</th>\n",
              "      <td>LP001005</td>\n",
              "      <td>Male</td>\n",
              "      <td>Yes</td>\n",
              "      <td>0</td>\n",
              "      <td>Graduate</td>\n",
              "      <td>Yes</td>\n",
              "      <td>3000</td>\n",
              "      <td>0.0</td>\n",
              "      <td>66.0</td>\n",
              "      <td>360.0</td>\n",
              "      <td>1.0</td>\n",
              "      <td>Urban</td>\n",
              "      <td>Y</td>\n",
              "    </tr>\n",
              "    <tr>\n",
              "      <th>3</th>\n",
              "      <td>LP001006</td>\n",
              "      <td>Male</td>\n",
              "      <td>Yes</td>\n",
              "      <td>0</td>\n",
              "      <td>Not Graduate</td>\n",
              "      <td>No</td>\n",
              "      <td>2583</td>\n",
              "      <td>2358.0</td>\n",
              "      <td>120.0</td>\n",
              "      <td>360.0</td>\n",
              "      <td>1.0</td>\n",
              "      <td>Urban</td>\n",
              "      <td>Y</td>\n",
              "    </tr>\n",
              "    <tr>\n",
              "      <th>4</th>\n",
              "      <td>LP001008</td>\n",
              "      <td>Male</td>\n",
              "      <td>No</td>\n",
              "      <td>0</td>\n",
              "      <td>Graduate</td>\n",
              "      <td>No</td>\n",
              "      <td>6000</td>\n",
              "      <td>0.0</td>\n",
              "      <td>141.0</td>\n",
              "      <td>360.0</td>\n",
              "      <td>1.0</td>\n",
              "      <td>Urban</td>\n",
              "      <td>Y</td>\n",
              "    </tr>\n",
              "  </tbody>\n",
              "</table>\n",
              "</div>\n",
              "    <div class=\"colab-df-buttons\">\n",
              "\n",
              "  <div class=\"colab-df-container\">\n",
              "    <button class=\"colab-df-convert\" onclick=\"convertToInteractive('df-6029cb61-6eb9-4546-84dc-aa212f728884')\"\n",
              "            title=\"Convert this dataframe to an interactive table.\"\n",
              "            style=\"display:none;\">\n",
              "\n",
              "  <svg xmlns=\"http://www.w3.org/2000/svg\" height=\"24px\" viewBox=\"0 -960 960 960\">\n",
              "    <path d=\"M120-120v-720h720v720H120Zm60-500h600v-160H180v160Zm220 220h160v-160H400v160Zm0 220h160v-160H400v160ZM180-400h160v-160H180v160Zm440 0h160v-160H620v160ZM180-180h160v-160H180v160Zm440 0h160v-160H620v160Z\"/>\n",
              "  </svg>\n",
              "    </button>\n",
              "\n",
              "  <style>\n",
              "    .colab-df-container {\n",
              "      display:flex;\n",
              "      gap: 12px;\n",
              "    }\n",
              "\n",
              "    .colab-df-convert {\n",
              "      background-color: #E8F0FE;\n",
              "      border: none;\n",
              "      border-radius: 50%;\n",
              "      cursor: pointer;\n",
              "      display: none;\n",
              "      fill: #1967D2;\n",
              "      height: 32px;\n",
              "      padding: 0 0 0 0;\n",
              "      width: 32px;\n",
              "    }\n",
              "\n",
              "    .colab-df-convert:hover {\n",
              "      background-color: #E2EBFA;\n",
              "      box-shadow: 0px 1px 2px rgba(60, 64, 67, 0.3), 0px 1px 3px 1px rgba(60, 64, 67, 0.15);\n",
              "      fill: #174EA6;\n",
              "    }\n",
              "\n",
              "    .colab-df-buttons div {\n",
              "      margin-bottom: 4px;\n",
              "    }\n",
              "\n",
              "    [theme=dark] .colab-df-convert {\n",
              "      background-color: #3B4455;\n",
              "      fill: #D2E3FC;\n",
              "    }\n",
              "\n",
              "    [theme=dark] .colab-df-convert:hover {\n",
              "      background-color: #434B5C;\n",
              "      box-shadow: 0px 1px 3px 1px rgba(0, 0, 0, 0.15);\n",
              "      filter: drop-shadow(0px 1px 2px rgba(0, 0, 0, 0.3));\n",
              "      fill: #FFFFFF;\n",
              "    }\n",
              "  </style>\n",
              "\n",
              "    <script>\n",
              "      const buttonEl =\n",
              "        document.querySelector('#df-6029cb61-6eb9-4546-84dc-aa212f728884 button.colab-df-convert');\n",
              "      buttonEl.style.display =\n",
              "        google.colab.kernel.accessAllowed ? 'block' : 'none';\n",
              "\n",
              "      async function convertToInteractive(key) {\n",
              "        const element = document.querySelector('#df-6029cb61-6eb9-4546-84dc-aa212f728884');\n",
              "        const dataTable =\n",
              "          await google.colab.kernel.invokeFunction('convertToInteractive',\n",
              "                                                    [key], {});\n",
              "        if (!dataTable) return;\n",
              "\n",
              "        const docLinkHtml = 'Like what you see? Visit the ' +\n",
              "          '<a target=\"_blank\" href=https://colab.research.google.com/notebooks/data_table.ipynb>data table notebook</a>'\n",
              "          + ' to learn more about interactive tables.';\n",
              "        element.innerHTML = '';\n",
              "        dataTable['output_type'] = 'display_data';\n",
              "        await google.colab.output.renderOutput(dataTable, element);\n",
              "        const docLink = document.createElement('div');\n",
              "        docLink.innerHTML = docLinkHtml;\n",
              "        element.appendChild(docLink);\n",
              "      }\n",
              "    </script>\n",
              "  </div>\n",
              "\n",
              "\n",
              "    <div id=\"df-f65b17d4-9a3d-4ee1-88a1-971b21de84cb\">\n",
              "      <button class=\"colab-df-quickchart\" onclick=\"quickchart('df-f65b17d4-9a3d-4ee1-88a1-971b21de84cb')\"\n",
              "                title=\"Suggest charts\"\n",
              "                style=\"display:none;\">\n",
              "\n",
              "<svg xmlns=\"http://www.w3.org/2000/svg\" height=\"24px\"viewBox=\"0 0 24 24\"\n",
              "     width=\"24px\">\n",
              "    <g>\n",
              "        <path d=\"M19 3H5c-1.1 0-2 .9-2 2v14c0 1.1.9 2 2 2h14c1.1 0 2-.9 2-2V5c0-1.1-.9-2-2-2zM9 17H7v-7h2v7zm4 0h-2V7h2v10zm4 0h-2v-4h2v4z\"/>\n",
              "    </g>\n",
              "</svg>\n",
              "      </button>\n",
              "\n",
              "<style>\n",
              "  .colab-df-quickchart {\n",
              "      --bg-color: #E8F0FE;\n",
              "      --fill-color: #1967D2;\n",
              "      --hover-bg-color: #E2EBFA;\n",
              "      --hover-fill-color: #174EA6;\n",
              "      --disabled-fill-color: #AAA;\n",
              "      --disabled-bg-color: #DDD;\n",
              "  }\n",
              "\n",
              "  [theme=dark] .colab-df-quickchart {\n",
              "      --bg-color: #3B4455;\n",
              "      --fill-color: #D2E3FC;\n",
              "      --hover-bg-color: #434B5C;\n",
              "      --hover-fill-color: #FFFFFF;\n",
              "      --disabled-bg-color: #3B4455;\n",
              "      --disabled-fill-color: #666;\n",
              "  }\n",
              "\n",
              "  .colab-df-quickchart {\n",
              "    background-color: var(--bg-color);\n",
              "    border: none;\n",
              "    border-radius: 50%;\n",
              "    cursor: pointer;\n",
              "    display: none;\n",
              "    fill: var(--fill-color);\n",
              "    height: 32px;\n",
              "    padding: 0;\n",
              "    width: 32px;\n",
              "  }\n",
              "\n",
              "  .colab-df-quickchart:hover {\n",
              "    background-color: var(--hover-bg-color);\n",
              "    box-shadow: 0 1px 2px rgba(60, 64, 67, 0.3), 0 1px 3px 1px rgba(60, 64, 67, 0.15);\n",
              "    fill: var(--button-hover-fill-color);\n",
              "  }\n",
              "\n",
              "  .colab-df-quickchart-complete:disabled,\n",
              "  .colab-df-quickchart-complete:disabled:hover {\n",
              "    background-color: var(--disabled-bg-color);\n",
              "    fill: var(--disabled-fill-color);\n",
              "    box-shadow: none;\n",
              "  }\n",
              "\n",
              "  .colab-df-spinner {\n",
              "    border: 2px solid var(--fill-color);\n",
              "    border-color: transparent;\n",
              "    border-bottom-color: var(--fill-color);\n",
              "    animation:\n",
              "      spin 1s steps(1) infinite;\n",
              "  }\n",
              "\n",
              "  @keyframes spin {\n",
              "    0% {\n",
              "      border-color: transparent;\n",
              "      border-bottom-color: var(--fill-color);\n",
              "      border-left-color: var(--fill-color);\n",
              "    }\n",
              "    20% {\n",
              "      border-color: transparent;\n",
              "      border-left-color: var(--fill-color);\n",
              "      border-top-color: var(--fill-color);\n",
              "    }\n",
              "    30% {\n",
              "      border-color: transparent;\n",
              "      border-left-color: var(--fill-color);\n",
              "      border-top-color: var(--fill-color);\n",
              "      border-right-color: var(--fill-color);\n",
              "    }\n",
              "    40% {\n",
              "      border-color: transparent;\n",
              "      border-right-color: var(--fill-color);\n",
              "      border-top-color: var(--fill-color);\n",
              "    }\n",
              "    60% {\n",
              "      border-color: transparent;\n",
              "      border-right-color: var(--fill-color);\n",
              "    }\n",
              "    80% {\n",
              "      border-color: transparent;\n",
              "      border-right-color: var(--fill-color);\n",
              "      border-bottom-color: var(--fill-color);\n",
              "    }\n",
              "    90% {\n",
              "      border-color: transparent;\n",
              "      border-bottom-color: var(--fill-color);\n",
              "    }\n",
              "  }\n",
              "</style>\n",
              "\n",
              "      <script>\n",
              "        async function quickchart(key) {\n",
              "          const quickchartButtonEl =\n",
              "            document.querySelector('#' + key + ' button');\n",
              "          quickchartButtonEl.disabled = true;  // To prevent multiple clicks.\n",
              "          quickchartButtonEl.classList.add('colab-df-spinner');\n",
              "          try {\n",
              "            const charts = await google.colab.kernel.invokeFunction(\n",
              "                'suggestCharts', [key], {});\n",
              "          } catch (error) {\n",
              "            console.error('Error during call to suggestCharts:', error);\n",
              "          }\n",
              "          quickchartButtonEl.classList.remove('colab-df-spinner');\n",
              "          quickchartButtonEl.classList.add('colab-df-quickchart-complete');\n",
              "        }\n",
              "        (() => {\n",
              "          let quickchartButtonEl =\n",
              "            document.querySelector('#df-f65b17d4-9a3d-4ee1-88a1-971b21de84cb button');\n",
              "          quickchartButtonEl.style.display =\n",
              "            google.colab.kernel.accessAllowed ? 'block' : 'none';\n",
              "        })();\n",
              "      </script>\n",
              "    </div>\n",
              "\n",
              "    </div>\n",
              "  </div>\n"
            ],
            "application/vnd.google.colaboratory.intrinsic+json": {
              "type": "dataframe",
              "variable_name": "df",
              "summary": "{\n  \"name\": \"df\",\n  \"rows\": 614,\n  \"fields\": [\n    {\n      \"column\": \"Loan_ID\",\n      \"properties\": {\n        \"dtype\": \"string\",\n        \"num_unique_values\": 614,\n        \"samples\": [\n          \"LP002139\",\n          \"LP002223\",\n          \"LP001570\"\n        ],\n        \"semantic_type\": \"\",\n        \"description\": \"\"\n      }\n    },\n    {\n      \"column\": \"Gender\",\n      \"properties\": {\n        \"dtype\": \"category\",\n        \"num_unique_values\": 2,\n        \"samples\": [\n          \"Female\",\n          \"Male\"\n        ],\n        \"semantic_type\": \"\",\n        \"description\": \"\"\n      }\n    },\n    {\n      \"column\": \"Married\",\n      \"properties\": {\n        \"dtype\": \"category\",\n        \"num_unique_values\": 2,\n        \"samples\": [\n          \"Yes\",\n          \"No\"\n        ],\n        \"semantic_type\": \"\",\n        \"description\": \"\"\n      }\n    },\n    {\n      \"column\": \"Dependents\",\n      \"properties\": {\n        \"dtype\": \"category\",\n        \"num_unique_values\": 4,\n        \"samples\": [\n          \"1\",\n          \"3+\"\n        ],\n        \"semantic_type\": \"\",\n        \"description\": \"\"\n      }\n    },\n    {\n      \"column\": \"Education\",\n      \"properties\": {\n        \"dtype\": \"category\",\n        \"num_unique_values\": 2,\n        \"samples\": [\n          \"Not Graduate\",\n          \"Graduate\"\n        ],\n        \"semantic_type\": \"\",\n        \"description\": \"\"\n      }\n    },\n    {\n      \"column\": \"Self_Employed\",\n      \"properties\": {\n        \"dtype\": \"category\",\n        \"num_unique_values\": 2,\n        \"samples\": [\n          \"Yes\",\n          \"No\"\n        ],\n        \"semantic_type\": \"\",\n        \"description\": \"\"\n      }\n    },\n    {\n      \"column\": \"ApplicantIncome\",\n      \"properties\": {\n        \"dtype\": \"number\",\n        \"std\": 6109,\n        \"min\": 150,\n        \"max\": 81000,\n        \"num_unique_values\": 505,\n        \"samples\": [\n          8333,\n          4342\n        ],\n        \"semantic_type\": \"\",\n        \"description\": \"\"\n      }\n    },\n    {\n      \"column\": \"CoapplicantIncome\",\n      \"properties\": {\n        \"dtype\": \"number\",\n        \"std\": 2926.2483692241917,\n        \"min\": 0.0,\n        \"max\": 41667.0,\n        \"num_unique_values\": 287,\n        \"samples\": [\n          1840.0,\n          2042.0\n        ],\n        \"semantic_type\": \"\",\n        \"description\": \"\"\n      }\n    },\n    {\n      \"column\": \"LoanAmount\",\n      \"properties\": {\n        \"dtype\": \"number\",\n        \"std\": 85.58732523570545,\n        \"min\": 9.0,\n        \"max\": 700.0,\n        \"num_unique_values\": 203,\n        \"samples\": [\n          100.0,\n          70.0\n        ],\n        \"semantic_type\": \"\",\n        \"description\": \"\"\n      }\n    },\n    {\n      \"column\": \"Loan_Amount_Term\",\n      \"properties\": {\n        \"dtype\": \"number\",\n        \"std\": 65.12040985461256,\n        \"min\": 12.0,\n        \"max\": 480.0,\n        \"num_unique_values\": 10,\n        \"samples\": [\n          84.0,\n          120.0\n        ],\n        \"semantic_type\": \"\",\n        \"description\": \"\"\n      }\n    },\n    {\n      \"column\": \"Credit_History\",\n      \"properties\": {\n        \"dtype\": \"number\",\n        \"std\": 0.3648783192364049,\n        \"min\": 0.0,\n        \"max\": 1.0,\n        \"num_unique_values\": 2,\n        \"samples\": [\n          0.0,\n          1.0\n        ],\n        \"semantic_type\": \"\",\n        \"description\": \"\"\n      }\n    },\n    {\n      \"column\": \"Property_Area\",\n      \"properties\": {\n        \"dtype\": \"category\",\n        \"num_unique_values\": 3,\n        \"samples\": [\n          \"Urban\",\n          \"Rural\"\n        ],\n        \"semantic_type\": \"\",\n        \"description\": \"\"\n      }\n    },\n    {\n      \"column\": \"Loan_Status\",\n      \"properties\": {\n        \"dtype\": \"category\",\n        \"num_unique_values\": 2,\n        \"samples\": [\n          \"N\",\n          \"Y\"\n        ],\n        \"semantic_type\": \"\",\n        \"description\": \"\"\n      }\n    }\n  ]\n}"
            }
          },
          "metadata": {},
          "execution_count": 4
        }
      ]
    },
    {
      "cell_type": "code",
      "source": [
        "print(df.shape)"
      ],
      "metadata": {
        "id": "QLUH-tNjh1b8",
        "outputId": "bf383af9-5291-4b5a-9601-5a0396473f8a",
        "execution": {
          "iopub.status.busy": "2022-03-08T02:28:37.00387Z",
          "iopub.execute_input": "2022-03-08T02:28:37.00425Z",
          "iopub.status.idle": "2022-03-08T02:28:37.009217Z",
          "shell.execute_reply.started": "2022-03-08T02:28:37.004206Z",
          "shell.execute_reply": "2022-03-08T02:28:37.008333Z"
        },
        "trusted": true,
        "colab": {
          "base_uri": "https://localhost:8080/"
        }
      },
      "execution_count": 5,
      "outputs": [
        {
          "output_type": "stream",
          "name": "stdout",
          "text": [
            "(614, 13)\n"
          ]
        }
      ]
    },
    {
      "cell_type": "markdown",
      "source": [
        "👉 As can be seen, the **13 columns** are readable. It also can be seen that there are **614 observations** in the data set."
      ],
      "metadata": {
        "id": "icrmwUvviQAX"
      }
    },
    {
      "cell_type": "markdown",
      "source": [
        "# 4. Data Exploration 🔍\n",
        "👉 This section will perform data exploration of \"raw\" data set that has been imported."
      ],
      "metadata": {
        "id": "q-gxXHlThKhK"
      }
    },
    {
      "cell_type": "markdown",
      "source": [
        "## 4.1 Categorical Variable 📊\n",
        "👉 The first type of variable that I will explore is categorical variable."
      ],
      "metadata": {
        "id": "e6VEKBKohdAs"
      }
    },
    {
      "cell_type": "markdown",
      "source": [
        "### 4.1.1 Loan ID"
      ],
      "metadata": {
        "id": "R1DsvbVQi2iw"
      }
    },
    {
      "cell_type": "code",
      "source": [
        "df.Loan_ID.value_counts(dropna=False)"
      ],
      "metadata": {
        "id": "NIqCAFjRi5Bo",
        "execution": {
          "iopub.status.busy": "2022-03-08T02:28:37.010426Z",
          "iopub.execute_input": "2022-03-08T02:28:37.011167Z",
          "iopub.status.idle": "2022-03-08T02:28:37.030711Z",
          "shell.execute_reply.started": "2022-03-08T02:28:37.011111Z",
          "shell.execute_reply": "2022-03-08T02:28:37.029786Z"
        },
        "trusted": true
      },
      "execution_count": null,
      "outputs": []
    },
    {
      "cell_type": "markdown",
      "source": [
        "👉 It can be seen that there are 614 unique ID in the dataset."
      ],
      "metadata": {
        "id": "12npx9e_i7xB"
      }
    },
    {
      "cell_type": "markdown",
      "source": [
        "### 4.1.2 Gender"
      ],
      "metadata": {
        "id": "P0PIgD0sizNr"
      }
    },
    {
      "cell_type": "code",
      "source": [
        "df.Gender.value_counts(dropna=False)"
      ],
      "metadata": {
        "id": "-FCfZqBthMS9",
        "execution": {
          "iopub.status.busy": "2022-03-08T02:28:37.032613Z",
          "iopub.execute_input": "2022-03-08T02:28:37.033234Z",
          "iopub.status.idle": "2022-03-08T02:28:37.041284Z",
          "shell.execute_reply.started": "2022-03-08T02:28:37.033199Z",
          "shell.execute_reply": "2022-03-08T02:28:37.040323Z"
        },
        "trusted": true
      },
      "execution_count": null,
      "outputs": []
    },
    {
      "cell_type": "code",
      "source": [
        "sns.countplot(x=\"Gender\", data=df, palette=\"hls\")\n",
        "plt.show()"
      ],
      "metadata": {
        "id": "J4m9mVNniwED",
        "execution": {
          "iopub.status.busy": "2022-03-08T02:28:37.042563Z",
          "iopub.execute_input": "2022-03-08T02:28:37.043156Z",
          "iopub.status.idle": "2022-03-08T02:28:37.243272Z",
          "shell.execute_reply.started": "2022-03-08T02:28:37.04311Z",
          "shell.execute_reply": "2022-03-08T02:28:37.242328Z"
        },
        "trusted": true
      },
      "execution_count": null,
      "outputs": []
    },
    {
      "cell_type": "code",
      "source": [
        "countMale = len(df[df.Gender == 'Male'])\n",
        "countFemale = len(df[df.Gender == 'Female'])\n",
        "countNull = len(df[df.Gender.isnull()])\n",
        "\n",
        "print(\"Percentage of Male applicant: {:.2f}%\".format((countMale / (len(df.Gender))*100)))\n",
        "print(\"Percentage of Female applicant: {:.2f}%\".format((countFemale / (len(df.Gender))*100)))\n",
        "print(\"Missing values percentage: {:.2f}%\".format((countNull / (len(df.Gender))*100)))"
      ],
      "metadata": {
        "id": "P7dngibeoNnH",
        "execution": {
          "iopub.status.busy": "2022-03-08T02:28:37.24467Z",
          "iopub.execute_input": "2022-03-08T02:28:37.244982Z",
          "iopub.status.idle": "2022-03-08T02:28:37.259346Z",
          "shell.execute_reply.started": "2022-03-08T02:28:37.244923Z",
          "shell.execute_reply": "2022-03-08T02:28:37.258176Z"
        },
        "trusted": true
      },
      "execution_count": null,
      "outputs": []
    },
    {
      "cell_type": "markdown",
      "source": [
        "👉 From the results above, the number of male applicants is higher compared to female applicants. It also can be seen there are missing values in this column."
      ],
      "metadata": {
        "id": "x-DNl5fMjDAu"
      }
    },
    {
      "cell_type": "markdown",
      "source": [
        "### 4.1.3 Married"
      ],
      "metadata": {
        "id": "b_Mkfxy6k2kS"
      }
    },
    {
      "cell_type": "code",
      "source": [
        "df.Married.value_counts(dropna=False)"
      ],
      "metadata": {
        "id": "GxBR8uJpk95l",
        "execution": {
          "iopub.status.busy": "2022-03-08T02:28:37.261207Z",
          "iopub.execute_input": "2022-03-08T02:28:37.261924Z",
          "iopub.status.idle": "2022-03-08T02:28:37.273082Z",
          "shell.execute_reply.started": "2022-03-08T02:28:37.261854Z",
          "shell.execute_reply": "2022-03-08T02:28:37.272383Z"
        },
        "trusted": true
      },
      "execution_count": null,
      "outputs": []
    },
    {
      "cell_type": "code",
      "source": [
        "sns.countplot(x=\"Married\", data=df, palette=\"Paired\")\n",
        "plt.show()"
      ],
      "metadata": {
        "id": "7PSgGPJ-lNAI",
        "execution": {
          "iopub.status.busy": "2022-03-08T02:28:37.2748Z",
          "iopub.execute_input": "2022-03-08T02:28:37.276197Z",
          "iopub.status.idle": "2022-03-08T02:28:37.446978Z",
          "shell.execute_reply.started": "2022-03-08T02:28:37.27612Z",
          "shell.execute_reply": "2022-03-08T02:28:37.446228Z"
        },
        "trusted": true
      },
      "execution_count": null,
      "outputs": []
    },
    {
      "cell_type": "markdown",
      "source": [
        "👉 The number of applicants that has been married is higher compared to applicants that hasn't married. It also can be seen there are small number of missing values in this column."
      ],
      "metadata": {
        "id": "103tu8DvlV0V"
      }
    },
    {
      "cell_type": "code",
      "source": [
        "countMarried = len(df[df.Married == 'Yes'])\n",
        "countNotMarried = len(df[df.Married == 'No'])\n",
        "countNull = len(df[df.Married.isnull()])\n",
        "\n",
        "print(\"Percentage of married: {:.2f}%\".format((countMarried / (len(df.Married))*100)))\n",
        "print(\"Percentage of Not married applicant: {:.2f}%\".format((countNotMarried / (len(df.Married))*100)))\n",
        "print(\"Missing values percentage: {:.2f}%\".format((countNull / (len(df.Married))*100)))"
      ],
      "metadata": {
        "id": "Iy-ECFncpHOg",
        "execution": {
          "iopub.status.busy": "2022-03-08T02:28:37.448053Z",
          "iopub.execute_input": "2022-03-08T02:28:37.448618Z",
          "iopub.status.idle": "2022-03-08T02:28:37.457895Z",
          "shell.execute_reply.started": "2022-03-08T02:28:37.448584Z",
          "shell.execute_reply": "2022-03-08T02:28:37.457175Z"
        },
        "trusted": true
      },
      "execution_count": null,
      "outputs": []
    },
    {
      "cell_type": "markdown",
      "source": [
        "### 4.1.4 Education"
      ],
      "metadata": {
        "id": "Ytz_I82Vl3Wu"
      }
    },
    {
      "cell_type": "code",
      "source": [
        "df.Education.value_counts(dropna=False)"
      ],
      "metadata": {
        "id": "Qqa3XmC5l3Wv",
        "execution": {
          "iopub.status.busy": "2022-03-08T02:28:37.458987Z",
          "iopub.execute_input": "2022-03-08T02:28:37.460258Z",
          "iopub.status.idle": "2022-03-08T02:28:37.475857Z",
          "shell.execute_reply.started": "2022-03-08T02:28:37.460216Z",
          "shell.execute_reply": "2022-03-08T02:28:37.475184Z"
        },
        "trusted": true
      },
      "execution_count": null,
      "outputs": []
    },
    {
      "cell_type": "code",
      "source": [
        "sns.countplot(x=\"Education\", data=df, palette=\"rocket\")\n",
        "plt.show()"
      ],
      "metadata": {
        "id": "rOSIyek7l3Wv",
        "execution": {
          "iopub.status.busy": "2022-03-08T02:28:37.477178Z",
          "iopub.execute_input": "2022-03-08T02:28:37.47821Z",
          "iopub.status.idle": "2022-03-08T02:28:37.643701Z",
          "shell.execute_reply.started": "2022-03-08T02:28:37.478156Z",
          "shell.execute_reply": "2022-03-08T02:28:37.642794Z"
        },
        "trusted": true
      },
      "execution_count": null,
      "outputs": []
    },
    {
      "cell_type": "code",
      "source": [
        "countGraduate = len(df[df.Education == 'Graduate'])\n",
        "countNotGraduate = len(df[df.Education == 'Not Graduate'])\n",
        "countNull = len(df[df.Education.isnull()])\n",
        "\n",
        "print(\"Percentage of graduate applicant: {:.2f}%\".format((countGraduate / (len(df.Education))*100)))\n",
        "print(\"Percentage of Not graduate applicant: {:.2f}%\".format((countNotGraduate / (len(df.Education))*100)))\n",
        "print(\"Missing values percentage: {:.2f}%\".format((countNull / (len(df.Education))*100)))"
      ],
      "metadata": {
        "id": "KswArAwgphLx",
        "execution": {
          "iopub.status.busy": "2022-03-08T02:28:37.646233Z",
          "iopub.execute_input": "2022-03-08T02:28:37.646741Z",
          "iopub.status.idle": "2022-03-08T02:28:37.65986Z",
          "shell.execute_reply.started": "2022-03-08T02:28:37.646693Z",
          "shell.execute_reply": "2022-03-08T02:28:37.658931Z"
        },
        "trusted": true
      },
      "execution_count": null,
      "outputs": []
    },
    {
      "cell_type": "markdown",
      "source": [
        "👉 The number of applicants that has been graduated is higher compared to applicants that hasn't graduated."
      ],
      "metadata": {
        "id": "wa2PIxQ_l3Ww"
      }
    },
    {
      "cell_type": "markdown",
      "source": [
        "### 4.1.5 Self Employed"
      ],
      "metadata": {
        "id": "35SS19AbmYMQ"
      }
    },
    {
      "cell_type": "code",
      "source": [
        "df.Self_Employed.value_counts(dropna=False)"
      ],
      "metadata": {
        "id": "_SkU0fcVmYMY",
        "execution": {
          "iopub.status.busy": "2022-03-08T02:28:37.663498Z",
          "iopub.execute_input": "2022-03-08T02:28:37.663898Z",
          "iopub.status.idle": "2022-03-08T02:28:37.675867Z",
          "shell.execute_reply.started": "2022-03-08T02:28:37.663859Z",
          "shell.execute_reply": "2022-03-08T02:28:37.674931Z"
        },
        "trusted": true
      },
      "execution_count": null,
      "outputs": []
    },
    {
      "cell_type": "code",
      "source": [
        "sns.countplot(x=\"Self_Employed\", data=df, palette=\"crest\")\n",
        "plt.show()"
      ],
      "metadata": {
        "id": "BMr-wTlFmYMZ",
        "execution": {
          "iopub.status.busy": "2022-03-08T02:28:37.677014Z",
          "iopub.execute_input": "2022-03-08T02:28:37.677245Z",
          "iopub.status.idle": "2022-03-08T02:28:37.792117Z",
          "shell.execute_reply.started": "2022-03-08T02:28:37.677219Z",
          "shell.execute_reply": "2022-03-08T02:28:37.7911Z"
        },
        "trusted": true
      },
      "execution_count": null,
      "outputs": []
    },
    {
      "cell_type": "code",
      "source": [
        "countNo = len(df[df.Self_Employed == 'No'])\n",
        "countYes = len(df[df.Self_Employed == 'Yes'])\n",
        "countNull = len(df[df.Self_Employed.isnull()])\n",
        "\n",
        "print(\"Percentage of Not self employed: {:.2f}%\".format((countNo / (len(df.Self_Employed))*100)))\n",
        "print(\"Percentage of self employed: {:.2f}%\".format((countYes / (len(df.Self_Employed))*100)))\n",
        "print(\"Missing values percentage: {:.2f}%\".format((countNull / (len(df.Self_Employed))*100)))"
      ],
      "metadata": {
        "id": "EaJS6E0Xp1AT",
        "execution": {
          "iopub.status.busy": "2022-03-08T02:28:37.794114Z",
          "iopub.execute_input": "2022-03-08T02:28:37.794739Z",
          "iopub.status.idle": "2022-03-08T02:28:37.810051Z",
          "shell.execute_reply.started": "2022-03-08T02:28:37.794683Z",
          "shell.execute_reply": "2022-03-08T02:28:37.808801Z"
        },
        "trusted": true
      },
      "execution_count": null,
      "outputs": []
    },
    {
      "cell_type": "markdown",
      "source": [
        "👉 The number of applicants that are not self employed is higher compared to applicants that are self employed. It also can be seen, there are missing values in this column."
      ],
      "metadata": {
        "id": "riciPtC9mYMZ"
      }
    },
    {
      "cell_type": "markdown",
      "source": [
        "### 4.1.6 Credit History"
      ],
      "metadata": {
        "id": "sn4zWF8-njF5"
      }
    },
    {
      "cell_type": "code",
      "source": [
        "df.Credit_History.value_counts(dropna=False)"
      ],
      "metadata": {
        "id": "KtdDjo95njGA",
        "execution": {
          "iopub.status.busy": "2022-03-08T02:28:37.812424Z",
          "iopub.execute_input": "2022-03-08T02:28:37.813008Z",
          "iopub.status.idle": "2022-03-08T02:28:37.827535Z",
          "shell.execute_reply.started": "2022-03-08T02:28:37.812958Z",
          "shell.execute_reply": "2022-03-08T02:28:37.826151Z"
        },
        "trusted": true
      },
      "execution_count": null,
      "outputs": []
    },
    {
      "cell_type": "code",
      "source": [
        "sns.countplot(x=\"Credit_History\", data=df, palette=\"viridis\")\n",
        "plt.show()"
      ],
      "metadata": {
        "id": "VmNGGD6onjGB",
        "execution": {
          "iopub.status.busy": "2022-03-08T02:28:37.830257Z",
          "iopub.execute_input": "2022-03-08T02:28:37.831054Z",
          "iopub.status.idle": "2022-03-08T02:28:37.988441Z",
          "shell.execute_reply.started": "2022-03-08T02:28:37.830988Z",
          "shell.execute_reply": "2022-03-08T02:28:37.987767Z"
        },
        "trusted": true
      },
      "execution_count": null,
      "outputs": []
    },
    {
      "cell_type": "code",
      "source": [
        "count1 = len(df[df.Credit_History == 1])\n",
        "count0 = len(df[df.Credit_History == 0])\n",
        "countNull = len(df[df.Credit_History.isnull()])\n",
        "\n",
        "print(\"Percentage of Good credit history: {:.2f}%\".format((count1 / (len(df.Credit_History))*100)))\n",
        "print(\"Percentage of Bad credit history: {:.2f}%\".format((count0 / (len(df.Credit_History))*100)))\n",
        "print(\"Missing values percentage: {:.2f}%\".format((countNull / (len(df.Credit_History))*100)))"
      ],
      "metadata": {
        "id": "WdkcsU8vqK8Y",
        "execution": {
          "iopub.status.busy": "2022-03-08T02:28:37.989844Z",
          "iopub.execute_input": "2022-03-08T02:28:37.990354Z",
          "iopub.status.idle": "2022-03-08T02:28:38.001778Z",
          "shell.execute_reply.started": "2022-03-08T02:28:37.990308Z",
          "shell.execute_reply": "2022-03-08T02:28:38.000577Z"
        },
        "trusted": true
      },
      "execution_count": null,
      "outputs": []
    },
    {
      "cell_type": "markdown",
      "source": [
        "👉 The number of applicants that have good credit history is higher compared to applicants that have bad credit history. It also can be seen, there are missing values in this column."
      ],
      "metadata": {
        "id": "SqS_n8I7njGB"
      }
    },
    {
      "cell_type": "markdown",
      "source": [
        "### 4.1.7 Property Area"
      ],
      "metadata": {
        "id": "vITK924Anjnn"
      }
    },
    {
      "cell_type": "code",
      "source": [
        "df.Property_Area.value_counts(dropna=False)"
      ],
      "metadata": {
        "id": "i4o2LfJ2njnn",
        "execution": {
          "iopub.status.busy": "2022-03-08T02:28:38.003291Z",
          "iopub.execute_input": "2022-03-08T02:28:38.003745Z",
          "iopub.status.idle": "2022-03-08T02:28:38.023708Z",
          "shell.execute_reply.started": "2022-03-08T02:28:38.003708Z",
          "shell.execute_reply": "2022-03-08T02:28:38.022809Z"
        },
        "trusted": true
      },
      "execution_count": null,
      "outputs": []
    },
    {
      "cell_type": "code",
      "source": [
        "sns.countplot(x=\"Property_Area\", data=df, palette=\"cubehelix\")\n",
        "plt.show()"
      ],
      "metadata": {
        "id": "29S5dnm6njnn",
        "execution": {
          "iopub.status.busy": "2022-03-08T02:28:38.025Z",
          "iopub.execute_input": "2022-03-08T02:28:38.025747Z",
          "iopub.status.idle": "2022-03-08T02:28:38.195693Z",
          "shell.execute_reply.started": "2022-03-08T02:28:38.025711Z",
          "shell.execute_reply": "2022-03-08T02:28:38.194766Z"
        },
        "trusted": true
      },
      "execution_count": null,
      "outputs": []
    },
    {
      "cell_type": "code",
      "source": [
        "countUrban = len(df[df.Property_Area == 'Urban'])\n",
        "countRural = len(df[df.Property_Area == 'Rural'])\n",
        "countSemiurban = len(df[df.Property_Area == 'Semiurban'])\n",
        "countNull = len(df[df.Property_Area.isnull()])\n",
        "\n",
        "print(\"Percentage of Urban: {:.2f}%\".format((countUrban / (len(df.Property_Area))*100)))\n",
        "print(\"Percentage of Rural: {:.2f}%\".format((countRural / (len(df.Property_Area))*100)))\n",
        "print(\"Percentage of Semiurban: {:.2f}%\".format((countSemiurban / (len(df.Property_Area))*100)))\n",
        "print(\"Missing values percentage: {:.2f}%\".format((countNull / (len(df.Property_Area))*100)))"
      ],
      "metadata": {
        "id": "XoksMSh9raU_",
        "execution": {
          "iopub.status.busy": "2022-03-08T02:28:38.196939Z",
          "iopub.execute_input": "2022-03-08T02:28:38.19763Z",
          "iopub.status.idle": "2022-03-08T02:28:38.208489Z",
          "shell.execute_reply.started": "2022-03-08T02:28:38.197593Z",
          "shell.execute_reply": "2022-03-08T02:28:38.207717Z"
        },
        "trusted": true
      },
      "execution_count": null,
      "outputs": []
    },
    {
      "cell_type": "markdown",
      "source": [
        "👉 This column has a balanced distribution between Urban, Rural, and Semiurban property area. It also can be seen there is no missing value."
      ],
      "metadata": {
        "id": "Uh6r7sCbnjnn"
      }
    },
    {
      "cell_type": "markdown",
      "source": [
        "### 4.1.8 Loan Status"
      ],
      "metadata": {
        "id": "sq3-SZScnkCQ"
      }
    },
    {
      "cell_type": "code",
      "source": [
        "df.Loan_Status.value_counts(dropna=False)"
      ],
      "metadata": {
        "id": "wiumstnCnkCQ",
        "execution": {
          "iopub.status.busy": "2022-03-08T02:28:38.209709Z",
          "iopub.execute_input": "2022-03-08T02:28:38.210271Z",
          "iopub.status.idle": "2022-03-08T02:28:38.223124Z",
          "shell.execute_reply.started": "2022-03-08T02:28:38.210225Z",
          "shell.execute_reply": "2022-03-08T02:28:38.222216Z"
        },
        "trusted": true
      },
      "execution_count": null,
      "outputs": []
    },
    {
      "cell_type": "code",
      "source": [
        "sns.countplot(x=\"Loan_Status\", data=df, palette=\"YlOrBr\")\n",
        "plt.show()"
      ],
      "metadata": {
        "id": "uu0vT0SvnkCR",
        "execution": {
          "iopub.status.busy": "2022-03-08T02:28:38.226475Z",
          "iopub.execute_input": "2022-03-08T02:28:38.226848Z",
          "iopub.status.idle": "2022-03-08T02:28:38.398985Z",
          "shell.execute_reply.started": "2022-03-08T02:28:38.2268Z",
          "shell.execute_reply": "2022-03-08T02:28:38.398197Z"
        },
        "trusted": true
      },
      "execution_count": null,
      "outputs": []
    },
    {
      "cell_type": "code",
      "source": [
        "countY = len(df[df.Loan_Status == 'Y'])\n",
        "countN = len(df[df.Loan_Status == 'N'])\n",
        "countNull = len(df[df.Loan_Status.isnull()])\n",
        "\n",
        "print(\"Percentage of Approved: {:.2f}%\".format((countY / (len(df.Loan_Status))*100)))\n",
        "print(\"Percentage of Rejected: {:.2f}%\".format((countN / (len(df.Loan_Status))*100)))\n",
        "print(\"Missing values percentage: {:.2f}%\".format((countNull / (len(df.Loan_Status))*100)))"
      ],
      "metadata": {
        "id": "nicivzzRsqZe",
        "execution": {
          "iopub.status.busy": "2022-03-08T02:28:38.400459Z",
          "iopub.execute_input": "2022-03-08T02:28:38.400737Z",
          "iopub.status.idle": "2022-03-08T02:28:38.413001Z",
          "shell.execute_reply.started": "2022-03-08T02:28:38.400699Z",
          "shell.execute_reply": "2022-03-08T02:28:38.41216Z"
        },
        "trusted": true
      },
      "execution_count": null,
      "outputs": []
    },
    {
      "cell_type": "markdown",
      "source": [
        "👉 The number of approved loans is higher compared to rejected loans . It also can be seen, there is no missing values in this column."
      ],
      "metadata": {
        "id": "Nj8btIZpnkCR"
      }
    },
    {
      "cell_type": "markdown",
      "source": [
        "### 4.1.9 Loan Amount Term"
      ],
      "metadata": {
        "id": "uOKvRa2gO_j9"
      }
    },
    {
      "cell_type": "code",
      "source": [
        "df.Loan_Amount_Term.value_counts(dropna=False)"
      ],
      "metadata": {
        "id": "suUA8cOXO_kB",
        "execution": {
          "iopub.status.busy": "2022-03-08T02:28:38.414623Z",
          "iopub.execute_input": "2022-03-08T02:28:38.415535Z",
          "iopub.status.idle": "2022-03-08T02:28:38.423765Z",
          "shell.execute_reply.started": "2022-03-08T02:28:38.415492Z",
          "shell.execute_reply": "2022-03-08T02:28:38.423033Z"
        },
        "trusted": true
      },
      "execution_count": null,
      "outputs": []
    },
    {
      "cell_type": "code",
      "source": [
        "sns.countplot(x=\"Loan_Amount_Term\", data=df, palette=\"rocket\")\n",
        "plt.show()"
      ],
      "metadata": {
        "id": "19IBVpnZO_kC",
        "execution": {
          "iopub.status.busy": "2022-03-08T02:28:38.42568Z",
          "iopub.execute_input": "2022-03-08T02:28:38.425945Z",
          "iopub.status.idle": "2022-03-08T02:28:38.63804Z",
          "shell.execute_reply.started": "2022-03-08T02:28:38.425914Z",
          "shell.execute_reply": "2022-03-08T02:28:38.637119Z"
        },
        "trusted": true
      },
      "execution_count": null,
      "outputs": []
    },
    {
      "cell_type": "code",
      "source": [
        "count12 = len(df[df.Loan_Amount_Term == 12.0])\n",
        "count36 = len(df[df.Loan_Amount_Term == 36.0])\n",
        "count60 = len(df[df.Loan_Amount_Term == 60.0])\n",
        "count84 = len(df[df.Loan_Amount_Term == 84.0])\n",
        "count120 = len(df[df.Loan_Amount_Term == 120.0])\n",
        "count180 = len(df[df.Loan_Amount_Term == 180.0])\n",
        "count240 = len(df[df.Loan_Amount_Term == 240.0])\n",
        "count300 = len(df[df.Loan_Amount_Term == 300.0])\n",
        "count360 = len(df[df.Loan_Amount_Term == 360.0])\n",
        "count480 = len(df[df.Loan_Amount_Term == 480.0])\n",
        "countNull = len(df[df.Loan_Amount_Term.isnull()])\n",
        "\n",
        "print(\"Percentage of 12: {:.2f}%\".format((count12 / (len(df.Loan_Amount_Term))*100)))\n",
        "print(\"Percentage of 36: {:.2f}%\".format((count36 / (len(df.Loan_Amount_Term))*100)))\n",
        "print(\"Percentage of 60: {:.2f}%\".format((count60 / (len(df.Loan_Amount_Term))*100)))\n",
        "print(\"Percentage of 84: {:.2f}%\".format((count84 / (len(df.Loan_Amount_Term))*100)))\n",
        "print(\"Percentage of 120: {:.2f}%\".format((count120 / (len(df.Loan_Amount_Term))*100)))\n",
        "print(\"Percentage of 180: {:.2f}%\".format((count180 / (len(df.Loan_Amount_Term))*100)))\n",
        "print(\"Percentage of 240: {:.2f}%\".format((count240 / (len(df.Loan_Amount_Term))*100)))\n",
        "print(\"Percentage of 300: {:.2f}%\".format((count300 / (len(df.Loan_Amount_Term))*100)))\n",
        "print(\"Percentage of 360: {:.2f}%\".format((count360 / (len(df.Loan_Amount_Term))*100)))\n",
        "print(\"Percentage of 480: {:.2f}%\".format((count480 / (len(df.Loan_Amount_Term))*100)))\n",
        "print(\"Missing values percentage: {:.2f}%\".format((countNull / (len(df.Loan_Amount_Term))*100)))"
      ],
      "metadata": {
        "id": "4I7KGiUiO_kC",
        "execution": {
          "iopub.status.busy": "2022-03-08T02:28:38.639601Z",
          "iopub.execute_input": "2022-03-08T02:28:38.63986Z",
          "iopub.status.idle": "2022-03-08T02:28:38.661394Z",
          "shell.execute_reply.started": "2022-03-08T02:28:38.639828Z",
          "shell.execute_reply": "2022-03-08T02:28:38.660356Z"
        },
        "trusted": true
      },
      "execution_count": null,
      "outputs": []
    },
    {
      "cell_type": "markdown",
      "source": [
        "👉 As can be seen from the results, **the 360 days loan duration is the most popular** compared to others."
      ],
      "metadata": {
        "id": "SrCT3UlKO_kC"
      }
    },
    {
      "cell_type": "markdown",
      "source": [
        "## 4.2 Numerical Variable 🔢\n",
        "👉 The second variable that I will explore is categorical variable."
      ],
      "metadata": {
        "id": "uE8t92lRtCXr"
      }
    },
    {
      "cell_type": "markdown",
      "source": [
        "### 4.2.1 Describe Numerical Variable 🔎\n",
        "👉 This section will show mean, count, std, min, max and others using describe function.\n"
      ],
      "metadata": {
        "id": "OilcVn02ZLGC"
      }
    },
    {
      "cell_type": "code",
      "source": [
        "df[['ApplicantIncome','CoapplicantIncome','LoanAmount']].describe()"
      ],
      "metadata": {
        "id": "JYmOMnqitb6s",
        "execution": {
          "iopub.status.busy": "2022-03-08T02:28:38.662874Z",
          "iopub.execute_input": "2022-03-08T02:28:38.66326Z",
          "iopub.status.idle": "2022-03-08T02:28:38.688764Z",
          "shell.execute_reply.started": "2022-03-08T02:28:38.663205Z",
          "shell.execute_reply": "2022-03-08T02:28:38.68819Z"
        },
        "trusted": true
      },
      "execution_count": null,
      "outputs": []
    },
    {
      "cell_type": "markdown",
      "source": [
        "### 4.2.2 Distribution of Numerical Variable 📈\n",
        "👉 In this section, I will show the distribution of numerical variable using histogram and violin plot."
      ],
      "metadata": {
        "id": "xVh_xjKZNFtZ"
      }
    },
    {
      "cell_type": "markdown",
      "source": [
        "#### 4.2.2.1 Histogram Distribution 📉"
      ],
      "metadata": {
        "id": "26oBuCCFRHdt"
      }
    },
    {
      "cell_type": "code",
      "source": [
        "sns.set(style=\"darkgrid\")\n",
        "fig, axs = plt.subplots(2, 2, figsize=(10, 8))\n",
        "\n",
        "sns.histplot(data=df, x=\"ApplicantIncome\", kde=True, ax=axs[0, 0], color='green')\n",
        "sns.histplot(data=df, x=\"CoapplicantIncome\", kde=True, ax=axs[0, 1], color='skyblue')\n",
        "sns.histplot(data=df, x=\"LoanAmount\", kde=True, ax=axs[1, 0], color='orange');"
      ],
      "metadata": {
        "id": "nNQVNECjOV_R",
        "execution": {
          "iopub.status.busy": "2022-03-08T02:28:38.689878Z",
          "iopub.execute_input": "2022-03-08T02:28:38.690671Z",
          "iopub.status.idle": "2022-03-08T02:28:39.971075Z",
          "shell.execute_reply.started": "2022-03-08T02:28:38.690634Z",
          "shell.execute_reply": "2022-03-08T02:28:39.970078Z"
        },
        "trusted": true
      },
      "execution_count": null,
      "outputs": []
    },
    {
      "cell_type": "markdown",
      "source": [
        "#### 4.2.2.2 Violin Plot 🎻"
      ],
      "metadata": {
        "id": "Wm-uWGyORLEh"
      }
    },
    {
      "cell_type": "code",
      "source": [
        "sns.set(style=\"darkgrid\")\n",
        "fig, axs1 = plt.subplots(2, 2, figsize=(10, 10))\n",
        "\n",
        "sns.violinplot(data=df, y=\"ApplicantIncome\", ax=axs1[0, 0], color='green')\n",
        "sns.violinplot(data=df, y=\"CoapplicantIncome\", ax=axs1[0, 1], color='skyblue')\n",
        "sns.violinplot(data=df, y=\"LoanAmount\", ax=axs1[1, 0], color='orange');"
      ],
      "metadata": {
        "id": "bqcMEGfUQDTM",
        "execution": {
          "iopub.status.busy": "2022-03-08T02:28:39.972416Z",
          "iopub.execute_input": "2022-03-08T02:28:39.973102Z",
          "iopub.status.idle": "2022-03-08T02:28:40.810081Z",
          "shell.execute_reply.started": "2022-03-08T02:28:39.973059Z",
          "shell.execute_reply": "2022-03-08T02:28:40.809237Z"
        },
        "trusted": true
      },
      "execution_count": null,
      "outputs": []
    },
    {
      "cell_type": "markdown",
      "source": [
        "*   The distribution of **Applicant income, Co Applicant Income, and Loan Amount** are **positively skewed** and **it has outliers** (can be seen from both histogram and violin plot).\n",
        "*   The distribution of **Loan Amount Term** is **negativly skewed** and **it has outliers.**\n",
        "\n"
      ],
      "metadata": {
        "id": "26VEP1r5SyM_"
      }
    },
    {
      "cell_type": "markdown",
      "source": [
        "## 4.3 Other Exploration 💹\n",
        "👉 This section will show additional exploration from each variables. The additional exploration are:\n",
        "*   Bivariate analysis (categorical w/ categorical, categroical w/ numerical, and numerical w/ numerical)\n",
        "*   Heatmap\n",
        "\n"
      ],
      "metadata": {
        "id": "sBAeM4ZWXuOI"
      }
    },
    {
      "cell_type": "markdown",
      "source": [
        "### 4.3.1 Heatmap 🔥"
      ],
      "metadata": {
        "id": "GsaiF0JAYrTA"
      }
    },
    {
      "cell_type": "code",
      "source": [
        "plt.figure(figsize=(10,7))\n",
        "sns.heatmap(df.corr(), annot=True, cmap='inferno');"
      ],
      "metadata": {
        "id": "eCrq4rn7XxTt",
        "execution": {
          "iopub.status.busy": "2022-03-08T02:28:40.811534Z",
          "iopub.execute_input": "2022-03-08T02:28:40.812203Z",
          "iopub.status.idle": "2022-03-08T02:28:41.231396Z",
          "shell.execute_reply.started": "2022-03-08T02:28:40.812149Z",
          "shell.execute_reply": "2022-03-08T02:28:41.230423Z"
        },
        "trusted": true
      },
      "execution_count": null,
      "outputs": []
    },
    {
      "cell_type": "markdown",
      "source": [
        "👉 There is positive correlation between Loan Amount and Applicant Income"
      ],
      "metadata": {
        "id": "BcZG6vDpfchM"
      }
    },
    {
      "cell_type": "markdown",
      "source": [
        "### 4.3.2 Categorical 📊 - Categorical 📊"
      ],
      "metadata": {
        "id": "IOm0V24oYyQb"
      }
    },
    {
      "cell_type": "code",
      "source": [
        "pd.crosstab(df.Gender,df.Married).plot(kind=\"bar\", stacked=True, figsize=(5,5), color=['#f64f59','#12c2e9'])\n",
        "plt.title('Gender vs Married')\n",
        "plt.xlabel('Gender')\n",
        "plt.ylabel('Frequency')\n",
        "plt.xticks(rotation=0)\n",
        "plt.show()"
      ],
      "metadata": {
        "id": "sO2zNOYmYxkt",
        "execution": {
          "iopub.status.busy": "2022-03-08T02:28:41.233063Z",
          "iopub.execute_input": "2022-03-08T02:28:41.233342Z",
          "iopub.status.idle": "2022-03-08T02:28:41.480179Z",
          "shell.execute_reply.started": "2022-03-08T02:28:41.233312Z",
          "shell.execute_reply": "2022-03-08T02:28:41.479096Z"
        },
        "trusted": true
      },
      "execution_count": null,
      "outputs": []
    },
    {
      "cell_type": "markdown",
      "source": [
        "👉 Most male applicants are already married compared to female applicants. Also, the number of not married male applicants are higher compare to female applicants that had not married."
      ],
      "metadata": {
        "id": "H2ic-PSOfxJq"
      }
    },
    {
      "cell_type": "code",
      "source": [
        "pd.crosstab(df.Self_Employed,df.Credit_History).plot(kind=\"bar\", stacked=True, figsize=(5,5), color=['#544a7d','#ffd452'])\n",
        "plt.title('Self Employed vs Credit History')\n",
        "plt.xlabel('Self Employed')\n",
        "plt.ylabel('Frequency')\n",
        "plt.legend([\"Bad Credit\", \"Good Credit\"])\n",
        "plt.xticks(rotation=0)\n",
        "plt.show()"
      ],
      "metadata": {
        "id": "Qkge_XadbuLA",
        "execution": {
          "iopub.status.busy": "2022-03-08T02:28:41.481434Z",
          "iopub.execute_input": "2022-03-08T02:28:41.481676Z",
          "iopub.status.idle": "2022-03-08T02:28:41.707093Z",
          "shell.execute_reply.started": "2022-03-08T02:28:41.481646Z",
          "shell.execute_reply": "2022-03-08T02:28:41.70642Z"
        },
        "trusted": true
      },
      "execution_count": null,
      "outputs": []
    },
    {
      "cell_type": "markdown",
      "source": [
        "👉 Most not self employed applicants have good credit compared to self employed applicants."
      ],
      "metadata": {
        "id": "Ab_vh1DWgFS3"
      }
    },
    {
      "cell_type": "code",
      "source": [
        "pd.crosstab(df.Property_Area,df.Loan_Status).plot(kind=\"bar\", stacked=True, figsize=(5,5), color=['#333333','#dd1818'])\n",
        "plt.title('Property Area vs Loan Status')\n",
        "plt.xlabel('Property Area')\n",
        "plt.ylabel('Frequency')\n",
        "plt.xticks(rotation=0)\n",
        "plt.show()"
      ],
      "metadata": {
        "id": "p1ztJv3wcyRA",
        "execution": {
          "iopub.status.busy": "2022-03-08T02:28:41.708419Z",
          "iopub.execute_input": "2022-03-08T02:28:41.709163Z",
          "iopub.status.idle": "2022-03-08T02:28:41.960066Z",
          "shell.execute_reply.started": "2022-03-08T02:28:41.709099Z",
          "shell.execute_reply": "2022-03-08T02:28:41.958392Z"
        },
        "trusted": true
      },
      "execution_count": null,
      "outputs": []
    },
    {
      "cell_type": "markdown",
      "source": [
        "👉 Most of loan that got accepted has property in Semiurban compared to Urban and Rural."
      ],
      "metadata": {
        "id": "yj4e2UvjgWsm"
      }
    },
    {
      "cell_type": "markdown",
      "source": [
        "### 4.3.3 Categorical 📊- Numerical 📈"
      ],
      "metadata": {
        "id": "GkPfU3KQdJvH"
      }
    },
    {
      "cell_type": "code",
      "source": [
        "sns.boxplot(x=\"Loan_Status\", y=\"ApplicantIncome\", data=df, palette=\"mako\");"
      ],
      "metadata": {
        "id": "8KXyIhTWdNoP",
        "execution": {
          "iopub.status.busy": "2022-03-08T02:28:41.961863Z",
          "iopub.execute_input": "2022-03-08T02:28:41.962272Z",
          "iopub.status.idle": "2022-03-08T02:28:42.2033Z",
          "shell.execute_reply.started": "2022-03-08T02:28:41.962219Z",
          "shell.execute_reply": "2022-03-08T02:28:42.202422Z"
        },
        "trusted": true
      },
      "execution_count": null,
      "outputs": []
    },
    {
      "cell_type": "markdown",
      "source": [
        "👉 It can be seen that there are lots of outliers in Applicant Income, and the distribution also positively skewed"
      ],
      "metadata": {
        "id": "sK5NrWpdiIbg"
      }
    },
    {
      "cell_type": "code",
      "source": [
        "sns.boxplot(x=\"CoapplicantIncome\", y=\"Loan_Status\", data=df, palette=\"rocket\");"
      ],
      "metadata": {
        "id": "UQgw9pSSdNgK",
        "execution": {
          "iopub.status.busy": "2022-03-08T02:28:42.204583Z",
          "iopub.execute_input": "2022-03-08T02:28:42.204811Z",
          "iopub.status.idle": "2022-03-08T02:28:42.444504Z",
          "shell.execute_reply.started": "2022-03-08T02:28:42.204783Z",
          "shell.execute_reply": "2022-03-08T02:28:42.443405Z"
        },
        "trusted": true
      },
      "execution_count": null,
      "outputs": []
    },
    {
      "cell_type": "markdown",
      "source": [
        "👉 It's clear that Co Applicant Income has a number of outliers, and the distribution is also positively skewed."
      ],
      "metadata": {
        "id": "Y7DFLTqpibiJ"
      }
    },
    {
      "cell_type": "code",
      "source": [
        "sns.boxplot(x=\"Loan_Status\", y=\"LoanAmount\", data=df, palette=\"YlOrBr\");"
      ],
      "metadata": {
        "id": "341fyImTdNO9",
        "execution": {
          "iopub.status.busy": "2022-03-08T02:28:42.446227Z",
          "iopub.execute_input": "2022-03-08T02:28:42.446574Z",
          "iopub.status.idle": "2022-03-08T02:28:42.668234Z",
          "shell.execute_reply.started": "2022-03-08T02:28:42.446528Z",
          "shell.execute_reply": "2022-03-08T02:28:42.667278Z"
        },
        "trusted": true
      },
      "execution_count": null,
      "outputs": []
    },
    {
      "cell_type": "markdown",
      "source": [
        "👉 As can be seen, Co Applicant Income has a high number of outliers, and the distribution is also positively skewed."
      ],
      "metadata": {
        "id": "35BpJYOJio5M"
      }
    },
    {
      "cell_type": "markdown",
      "source": [
        "### 4.3.4 Numerical 📈 - Numerical 📈"
      ],
      "metadata": {
        "id": "qwYT4WuSi1BA"
      }
    },
    {
      "cell_type": "code",
      "source": [
        "df.plot(x='ApplicantIncome', y='CoapplicantIncome', style='o')\n",
        "plt.title('Applicant Income - Co Applicant Income')\n",
        "plt.xlabel('ApplicantIncome')\n",
        "plt.ylabel('CoapplicantIncome')\n",
        "plt.show()\n",
        "print('Pearson correlation:', df['ApplicantIncome'].corr(df['CoapplicantIncome']))\n",
        "print('T Test and P value: \\n', stats.ttest_ind(df['ApplicantIncome'], df['CoapplicantIncome']))"
      ],
      "metadata": {
        "id": "xEWeAA3Fi3XJ",
        "execution": {
          "iopub.status.busy": "2022-03-08T02:28:42.669691Z",
          "iopub.execute_input": "2022-03-08T02:28:42.669929Z",
          "iopub.status.idle": "2022-03-08T02:28:42.9656Z",
          "shell.execute_reply.started": "2022-03-08T02:28:42.669899Z",
          "shell.execute_reply": "2022-03-08T02:28:42.964525Z"
        },
        "trusted": true
      },
      "execution_count": null,
      "outputs": []
    },
    {
      "cell_type": "markdown",
      "source": [
        "*   There is **negative correlation** between Applicant income and Co Applicant Income.\n",
        "*   The correlation coefficient is **significant** at the 95 per cent confidence interval, as it has a **p-value of 1.46**\n"
      ],
      "metadata": {
        "id": "9W0f-Mi5q_WA"
      }
    },
    {
      "cell_type": "markdown",
      "source": [
        "## 4.4 Null Values 🚫"
      ],
      "metadata": {
        "id": "Jq0D9_A1VSV9"
      }
    },
    {
      "cell_type": "code",
      "source": [
        "df.isnull().sum()"
      ],
      "metadata": {
        "id": "Buorzh0-VVPS",
        "execution": {
          "iopub.status.busy": "2022-03-08T02:28:42.967162Z",
          "iopub.execute_input": "2022-03-08T02:28:42.967429Z",
          "iopub.status.idle": "2022-03-08T02:28:42.978964Z",
          "shell.execute_reply.started": "2022-03-08T02:28:42.967397Z",
          "shell.execute_reply": "2022-03-08T02:28:42.977764Z"
        },
        "trusted": true
      },
      "execution_count": null,
      "outputs": []
    },
    {
      "cell_type": "code",
      "source": [
        "plt.figure(figsize = (24, 5))\n",
        "axz = plt.subplot(1,2,2)\n",
        "mso.bar(df, ax = axz, fontsize = 12);"
      ],
      "metadata": {
        "id": "MSESe0JvVZ67",
        "execution": {
          "iopub.status.busy": "2022-03-08T02:28:42.9842Z",
          "iopub.execute_input": "2022-03-08T02:28:42.984509Z",
          "iopub.status.idle": "2022-03-08T02:28:44.077905Z",
          "shell.execute_reply.started": "2022-03-08T02:28:42.984476Z",
          "shell.execute_reply": "2022-03-08T02:28:44.07671Z"
        },
        "trusted": true
      },
      "execution_count": null,
      "outputs": []
    },
    {
      "cell_type": "markdown",
      "source": [
        "👉 Previously, the null values has been explored for Categorical Variables. In this section, the null values has been explored **for all variables** in the dataset."
      ],
      "metadata": {
        "id": "b6LoQvhRVUup"
      }
    },
    {
      "cell_type": "markdown",
      "source": [
        "# 5. Data Preprocessing ⚙"
      ],
      "metadata": {
        "id": "i0K8wc4UVyX2"
      }
    },
    {
      "cell_type": "markdown",
      "source": [
        "## 5.1 Drop Unecessary Variables 🔻\n",
        "👉 Unecessary variables will be dropped in this section."
      ],
      "metadata": {
        "id": "_JhvC2qZW4ke"
      }
    },
    {
      "cell_type": "code",
      "source": [
        "df = df.drop(['Loan_ID'], axis = 1)"
      ],
      "metadata": {
        "id": "w255orBlXxSC",
        "execution": {
          "iopub.status.busy": "2022-03-08T02:28:44.079771Z",
          "iopub.execute_input": "2022-03-08T02:28:44.08045Z",
          "iopub.status.idle": "2022-03-08T02:28:44.089968Z",
          "shell.execute_reply.started": "2022-03-08T02:28:44.080387Z",
          "shell.execute_reply": "2022-03-08T02:28:44.088803Z"
        },
        "trusted": true
      },
      "execution_count": null,
      "outputs": []
    },
    {
      "cell_type": "markdown",
      "source": [
        "## 5.2 Data Imputation 📝\n",
        "👉 Imputation is a technique for substituting an estimated value for missing values in a dataset. In this section, the imputation will be performed for variables that have missing values."
      ],
      "metadata": {
        "id": "E9RXvNsoV16b"
      }
    },
    {
      "cell_type": "markdown",
      "source": [
        "### 5.2.1 Categorical Variables 📊\n",
        "👉 In this section, the imputation for categorical variables will be performed using **mode**."
      ],
      "metadata": {
        "id": "uziNPF4eGlyJ"
      }
    },
    {
      "cell_type": "code",
      "source": [
        "df['Gender'].fillna(df['Gender'].mode()[0],inplace=True)\n",
        "df['Married'].fillna(df['Married'].mode()[0],inplace=True)\n",
        "df['Dependents'].fillna(df['Dependents'].mode()[0],inplace=True)\n",
        "df['Self_Employed'].fillna(df['Self_Employed'].mode()[0],inplace=True)\n",
        "df['Credit_History'].fillna(df['Credit_History'].mode()[0],inplace=True)\n",
        "df['Loan_Amount_Term'].fillna(df['Loan_Amount_Term'].mode()[0],inplace=True)"
      ],
      "metadata": {
        "id": "1Dna_U33V09a",
        "execution": {
          "iopub.status.busy": "2022-03-08T02:28:44.09145Z",
          "iopub.execute_input": "2022-03-08T02:28:44.092049Z",
          "iopub.status.idle": "2022-03-08T02:28:44.107656Z",
          "shell.execute_reply.started": "2022-03-08T02:28:44.091906Z",
          "shell.execute_reply": "2022-03-08T02:28:44.10625Z"
        },
        "trusted": true
      },
      "execution_count": null,
      "outputs": []
    },
    {
      "cell_type": "markdown",
      "source": [
        "### 5.2.2 Numerical Variables 📈\n",
        "👉 The next section is imputation for numerical variables using **mean**."
      ],
      "metadata": {
        "id": "7s3L4BM0Gvpr"
      }
    },
    {
      "cell_type": "code",
      "source": [
        "df['LoanAmount'].fillna(df['LoanAmount'].mean(),inplace=True)"
      ],
      "metadata": {
        "id": "OayJ893bG665",
        "execution": {
          "iopub.status.busy": "2022-03-08T02:28:44.109095Z",
          "iopub.execute_input": "2022-03-08T02:28:44.109628Z",
          "iopub.status.idle": "2022-03-08T02:28:44.122222Z",
          "shell.execute_reply.started": "2022-03-08T02:28:44.109587Z",
          "shell.execute_reply": "2022-03-08T02:28:44.120866Z"
        },
        "trusted": true
      },
      "execution_count": null,
      "outputs": []
    },
    {
      "cell_type": "markdown",
      "source": [
        "## 5.3 One-hot Encoding 🔧\n",
        "👉 In this section, I will **transform categorical variables into a form that could be provided by ML algorithms to do a better prediction.**"
      ],
      "metadata": {
        "id": "svjroAn8KInZ"
      }
    },
    {
      "cell_type": "code",
      "source": [
        "df = pd.get_dummies(df)\n",
        "\n",
        "# Drop columns\n",
        "df = df.drop(['Gender_Female', 'Married_No', 'Education_Not Graduate',\n",
        "              'Self_Employed_No', 'Loan_Status_N'], axis = 1)\n",
        "\n",
        "# Rename columns name\n",
        "new = {'Gender_Male': 'Gender', 'Married_Yes': 'Married',\n",
        "       'Education_Graduate': 'Education', 'Self_Employed_Yes': 'Self_Employed',\n",
        "       'Loan_Status_Y': 'Loan_Status'}\n",
        "\n",
        "df.rename(columns=new, inplace=True)"
      ],
      "metadata": {
        "id": "JPrZD3MHLBJO",
        "execution": {
          "iopub.status.busy": "2022-03-08T02:28:44.123834Z",
          "iopub.execute_input": "2022-03-08T02:28:44.124643Z",
          "iopub.status.idle": "2022-03-08T02:28:44.14741Z",
          "shell.execute_reply.started": "2022-03-08T02:28:44.124603Z",
          "shell.execute_reply": "2022-03-08T02:28:44.146216Z"
        },
        "trusted": true
      },
      "execution_count": null,
      "outputs": []
    },
    {
      "cell_type": "markdown",
      "source": [
        "## 5.3 Remove Outliers & Infinite values 🚮\n",
        "👉 Since there are outliers, **the outliers will be removed**. <br>\n"
      ],
      "metadata": {
        "id": "4xekDiffkIIb"
      }
    },
    {
      "cell_type": "code",
      "source": [
        "Q1 = df.quantile(0.25)\n",
        "Q3 = df.quantile(0.75)\n",
        "IQR = Q3 - Q1\n",
        "\n",
        "df = df[~((df < (Q1 - 1.5 * IQR)) |(df > (Q3 + 1.5 * IQR))).any(axis=1)]"
      ],
      "metadata": {
        "id": "7xXzLUK4kHsf",
        "execution": {
          "iopub.status.busy": "2022-03-08T02:28:44.148939Z",
          "iopub.execute_input": "2022-03-08T02:28:44.149217Z",
          "iopub.status.idle": "2022-03-08T02:28:44.165845Z",
          "shell.execute_reply.started": "2022-03-08T02:28:44.149184Z",
          "shell.execute_reply": "2022-03-08T02:28:44.164707Z"
        },
        "trusted": true
      },
      "execution_count": null,
      "outputs": []
    },
    {
      "cell_type": "markdown",
      "source": [
        "## 5.4 Skewed Distribution Treatment 📐\n",
        "👉 In previous section, it already shown that **distribution for ApplicantIncome, CoapplicantIncome, and LoanAmount is positively skewed**. <br>\n",
        "👉 I will use **square root transformation** to normalized the distribution."
      ],
      "metadata": {
        "id": "r7hJ7w6dMlZk"
      }
    },
    {
      "cell_type": "code",
      "source": [
        "# Square Root Transformation\n",
        "\n",
        "df.ApplicantIncome = np.sqrt(df.ApplicantIncome)\n",
        "df.CoapplicantIncome = np.sqrt(df.CoapplicantIncome)\n",
        "df.LoanAmount = np.sqrt(df.LoanAmount)"
      ],
      "metadata": {
        "id": "fMwoGg5BOKjo",
        "execution": {
          "iopub.status.busy": "2022-03-08T02:28:44.167869Z",
          "iopub.execute_input": "2022-03-08T02:28:44.168861Z",
          "iopub.status.idle": "2022-03-08T02:28:44.176992Z",
          "shell.execute_reply.started": "2022-03-08T02:28:44.168808Z",
          "shell.execute_reply": "2022-03-08T02:28:44.17592Z"
        },
        "trusted": true
      },
      "execution_count": null,
      "outputs": []
    },
    {
      "cell_type": "code",
      "source": [
        "sns.set(style=\"darkgrid\")\n",
        "fig, axs = plt.subplots(2, 2, figsize=(10, 8))\n",
        "\n",
        "sns.histplot(data=df, x=\"ApplicantIncome\", kde=True, ax=axs[0, 0], color='green')\n",
        "sns.histplot(data=df, x=\"CoapplicantIncome\", kde=True, ax=axs[0, 1], color='skyblue')\n",
        "sns.histplot(data=df, x=\"LoanAmount\", kde=True, ax=axs[1, 0], color='orange');"
      ],
      "metadata": {
        "id": "5z_EKO1ITgTU",
        "execution": {
          "iopub.status.busy": "2022-03-08T02:28:44.178489Z",
          "iopub.execute_input": "2022-03-08T02:28:44.179956Z",
          "iopub.status.idle": "2022-03-08T02:28:45.10939Z",
          "shell.execute_reply.started": "2022-03-08T02:28:44.179886Z",
          "shell.execute_reply": "2022-03-08T02:28:45.107962Z"
        },
        "trusted": true
      },
      "execution_count": null,
      "outputs": []
    },
    {
      "cell_type": "markdown",
      "source": [
        "👉 As can be seen, the distribution after using log transformation are much better compared to original distribution."
      ],
      "metadata": {
        "id": "RF-7s2avUipu"
      }
    },
    {
      "cell_type": "markdown",
      "source": [
        "## 5.5 Features Separating ➗\n",
        "👉 Dependent features (Loan_Status) will be seperated from independent features."
      ],
      "metadata": {
        "id": "E6V0WTjKgwFj"
      }
    },
    {
      "cell_type": "code",
      "source": [
        "X = df.drop([\"Loan_Status\"], axis=1)\n",
        "y = df[\"Loan_Status\"]"
      ],
      "metadata": {
        "id": "sJJVP_kPhZh1",
        "execution": {
          "iopub.status.busy": "2022-03-08T02:28:45.11094Z",
          "iopub.execute_input": "2022-03-08T02:28:45.111209Z",
          "iopub.status.idle": "2022-03-08T02:28:45.117839Z",
          "shell.execute_reply.started": "2022-03-08T02:28:45.111179Z",
          "shell.execute_reply": "2022-03-08T02:28:45.116948Z"
        },
        "trusted": true
      },
      "execution_count": null,
      "outputs": []
    },
    {
      "cell_type": "markdown",
      "source": [
        "## 5.6 SMOTE Technique 🔨\n",
        "👉 In previous exploration, it can be seen that **the number between approved and rejected loan is imbalanced**. In this section, **oversampling technique will be used to avoid overfitting**,"
      ],
      "metadata": {
        "id": "UpuBMRbEUx5n"
      }
    },
    {
      "cell_type": "code",
      "source": [
        "X, y = SMOTE().fit_resample(X, y)"
      ],
      "metadata": {
        "id": "FRrTxXZNU7Wg",
        "execution": {
          "iopub.status.busy": "2022-03-08T02:28:45.119077Z",
          "iopub.execute_input": "2022-03-08T02:28:45.119406Z",
          "iopub.status.idle": "2022-03-08T02:28:45.146851Z",
          "shell.execute_reply.started": "2022-03-08T02:28:45.119373Z",
          "shell.execute_reply": "2022-03-08T02:28:45.146082Z"
        },
        "trusted": true
      },
      "execution_count": null,
      "outputs": []
    },
    {
      "cell_type": "code",
      "source": [
        "sns.set_theme(style=\"darkgrid\")\n",
        "sns.countplot(y=y, data=df, palette=\"coolwarm\")\n",
        "plt.ylabel('Loan Status')\n",
        "plt.xlabel('Total')\n",
        "plt.show()"
      ],
      "metadata": {
        "id": "RVpxywzMzbQb",
        "execution": {
          "iopub.status.busy": "2022-03-08T02:28:45.147996Z",
          "iopub.execute_input": "2022-03-08T02:28:45.148279Z",
          "iopub.status.idle": "2022-03-08T02:28:45.364316Z",
          "shell.execute_reply.started": "2022-03-08T02:28:45.148247Z",
          "shell.execute_reply": "2022-03-08T02:28:45.363398Z"
        },
        "trusted": true
      },
      "execution_count": null,
      "outputs": []
    },
    {
      "cell_type": "markdown",
      "source": [
        "👉 As can be seen, the distrubtion of Loan status are now **balanced**."
      ],
      "metadata": {
        "id": "KS8B6JYJ0GB9"
      }
    },
    {
      "cell_type": "markdown",
      "source": [
        "## 5.7 Data Normalization ⚖\n",
        "👉 In this section, data normalization will be performed **to normalize the range of independent variables or features of data**."
      ],
      "metadata": {
        "id": "deRoCdMn0Y4S"
      }
    },
    {
      "cell_type": "code",
      "source": [
        "X = MinMaxScaler().fit_transform(X)"
      ],
      "metadata": {
        "id": "WmA2qj9y0Yqo",
        "execution": {
          "iopub.status.busy": "2022-03-08T02:28:45.365698Z",
          "iopub.execute_input": "2022-03-08T02:28:45.366079Z",
          "iopub.status.idle": "2022-03-08T02:28:45.374013Z",
          "shell.execute_reply.started": "2022-03-08T02:28:45.366029Z",
          "shell.execute_reply": "2022-03-08T02:28:45.373349Z"
        },
        "trusted": true
      },
      "execution_count": null,
      "outputs": []
    },
    {
      "cell_type": "markdown",
      "source": [
        "## 5.8 Splitting Data Set 🪓\n",
        "👉 The data set will be split into **80% train and 20% test**."
      ],
      "metadata": {
        "id": "n9-O0Q9D3XwK"
      }
    },
    {
      "cell_type": "code",
      "source": [
        "X_train, X_test, y_train, y_test = train_test_split(X, y, test_size = 0.2, random_state = 0)"
      ],
      "metadata": {
        "id": "sfenUwlr3c2Y",
        "execution": {
          "iopub.status.busy": "2022-03-08T02:28:45.375256Z",
          "iopub.execute_input": "2022-03-08T02:28:45.375483Z",
          "iopub.status.idle": "2022-03-08T02:28:45.388807Z",
          "shell.execute_reply.started": "2022-03-08T02:28:45.375455Z",
          "shell.execute_reply": "2022-03-08T02:28:45.387927Z"
        },
        "trusted": true
      },
      "execution_count": null,
      "outputs": []
    },
    {
      "cell_type": "markdown",
      "source": [
        "# 6. Models 🛠"
      ],
      "metadata": {
        "id": "3ixOkJUx3puI"
      }
    },
    {
      "cell_type": "markdown",
      "source": [
        "## 6.1 Logistic Regression"
      ],
      "metadata": {
        "id": "MS0qL8PC4K3o"
      }
    },
    {
      "cell_type": "code",
      "source": [
        "LRclassifier = LogisticRegression(solver='saga', max_iter=500, random_state=1)\n",
        "LRclassifier.fit(X_train, y_train)\n",
        "\n",
        "y_pred = LRclassifier.predict(X_test)\n",
        "\n",
        "print(classification_report(y_test, y_pred))\n",
        "print(confusion_matrix(y_test, y_pred))\n",
        "\n",
        "from sklearn.metrics import accuracy_score\n",
        "LRAcc = accuracy_score(y_pred,y_test)\n",
        "print('LR accuracy: {:.2f}%'.format(LRAcc*100))"
      ],
      "metadata": {
        "id": "Xa5A1VSf4Fgu",
        "execution": {
          "iopub.status.busy": "2022-03-08T02:28:45.390161Z",
          "iopub.execute_input": "2022-03-08T02:28:45.391439Z",
          "iopub.status.idle": "2022-03-08T02:28:45.410919Z",
          "shell.execute_reply.started": "2022-03-08T02:28:45.391364Z",
          "shell.execute_reply": "2022-03-08T02:28:45.410085Z"
        },
        "trusted": true
      },
      "execution_count": null,
      "outputs": []
    },
    {
      "cell_type": "markdown",
      "source": [
        "## 6.2 K-Nearest Neighbour (KNN)"
      ],
      "metadata": {
        "id": "1taw0vyy7hu9"
      }
    },
    {
      "cell_type": "code",
      "source": [
        "scoreListknn = []\n",
        "for i in range(1,21):\n",
        "    KNclassifier = KNeighborsClassifier(n_neighbors = i)\n",
        "    KNclassifier.fit(X_train, y_train)\n",
        "    scoreListknn.append(KNclassifier.score(X_test, y_test))\n",
        "\n",
        "plt.plot(range(1,21), scoreListknn)\n",
        "plt.xticks(np.arange(1,21,1))\n",
        "plt.xlabel(\"K value\")\n",
        "plt.ylabel(\"Score\")\n",
        "plt.show()\n",
        "KNAcc = max(scoreListknn)\n",
        "print(\"KNN best accuracy: {:.2f}%\".format(KNAcc*100))"
      ],
      "metadata": {
        "id": "1c77uWXR5bwM",
        "execution": {
          "iopub.status.busy": "2022-03-08T02:28:45.412265Z",
          "iopub.execute_input": "2022-03-08T02:28:45.41265Z",
          "iopub.status.idle": "2022-03-08T02:28:45.798624Z",
          "shell.execute_reply.started": "2022-03-08T02:28:45.412618Z",
          "shell.execute_reply": "2022-03-08T02:28:45.797526Z"
        },
        "trusted": true
      },
      "execution_count": null,
      "outputs": []
    },
    {
      "cell_type": "markdown",
      "source": [
        "## 6.3 Support Vector Machine (SVM)"
      ],
      "metadata": {
        "id": "sZiCQChQ8IUG"
      }
    },
    {
      "cell_type": "code",
      "source": [
        "SVCclassifier = SVC(kernel='rbf', max_iter=500)\n",
        "SVCclassifier.fit(X_train, y_train)\n",
        "\n",
        "y_pred = SVCclassifier.predict(X_test)\n",
        "\n",
        "print(classification_report(y_test, y_pred))\n",
        "print(confusion_matrix(y_test, y_pred))\n",
        "\n",
        "from sklearn.metrics import accuracy_score\n",
        "SVCAcc = accuracy_score(y_pred,y_test)\n",
        "print('SVC accuracy: {:.2f}%'.format(SVCAcc*100))"
      ],
      "metadata": {
        "id": "EaPdKhgx8RsA",
        "execution": {
          "iopub.status.busy": "2022-03-08T02:28:45.800593Z",
          "iopub.execute_input": "2022-03-08T02:28:45.800881Z",
          "iopub.status.idle": "2022-03-08T02:28:45.816735Z",
          "shell.execute_reply.started": "2022-03-08T02:28:45.800841Z",
          "shell.execute_reply": "2022-03-08T02:28:45.815706Z"
        },
        "trusted": true
      },
      "execution_count": null,
      "outputs": []
    },
    {
      "cell_type": "markdown",
      "source": [
        "## 6.4 Naive Bayes"
      ],
      "metadata": {
        "id": "W5bkW7Ez9EQw"
      }
    },
    {
      "cell_type": "markdown",
      "source": [
        "### 6.4.1 Categorical NB"
      ],
      "metadata": {
        "id": "z9iKq1Xy9fmw"
      }
    },
    {
      "cell_type": "code",
      "source": [
        "NBclassifier1 = CategoricalNB()\n",
        "NBclassifier1.fit(X_train, y_train)\n",
        "\n",
        "y_pred = NBclassifier1.predict(X_test)\n",
        "\n",
        "print(classification_report(y_test, y_pred))\n",
        "print(confusion_matrix(y_test, y_pred))\n",
        "\n",
        "from sklearn.metrics import accuracy_score\n",
        "NBAcc1 = accuracy_score(y_pred,y_test)\n",
        "print('Categorical Naive Bayes accuracy: {:.2f}%'.format(NBAcc1*100))"
      ],
      "metadata": {
        "id": "OMt6iovq9D4Z",
        "execution": {
          "iopub.status.busy": "2022-03-08T02:28:45.818198Z",
          "iopub.execute_input": "2022-03-08T02:28:45.819728Z",
          "iopub.status.idle": "2022-03-08T02:28:45.839794Z",
          "shell.execute_reply.started": "2022-03-08T02:28:45.819661Z",
          "shell.execute_reply": "2022-03-08T02:28:45.838814Z"
        },
        "trusted": true
      },
      "execution_count": null,
      "outputs": []
    },
    {
      "cell_type": "markdown",
      "source": [
        "### 6.4.2 Gaussian NB"
      ],
      "metadata": {
        "id": "bjlQpJN59UbD"
      }
    },
    {
      "cell_type": "code",
      "source": [
        "NBclassifier2 = GaussianNB()\n",
        "NBclassifier2.fit(X_train, y_train)\n",
        "\n",
        "y_pred = NBclassifier2.predict(X_test)\n",
        "\n",
        "print(classification_report(y_test, y_pred))\n",
        "print(confusion_matrix(y_test, y_pred))\n",
        "\n",
        "from sklearn.metrics import accuracy_score\n",
        "NBAcc2 = accuracy_score(y_pred,y_test)\n",
        "print('Gaussian Naive Bayes accuracy: {:.2f}%'.format(NBAcc2*100))"
      ],
      "metadata": {
        "id": "RJv2_DVl9Tn8",
        "execution": {
          "iopub.status.busy": "2022-03-08T02:28:45.841088Z",
          "iopub.execute_input": "2022-03-08T02:28:45.841403Z",
          "iopub.status.idle": "2022-03-08T02:28:45.85858Z",
          "shell.execute_reply.started": "2022-03-08T02:28:45.841369Z",
          "shell.execute_reply": "2022-03-08T02:28:45.857579Z"
        },
        "trusted": true
      },
      "execution_count": null,
      "outputs": []
    },
    {
      "cell_type": "markdown",
      "source": [
        "## 6.5 Decision Tree"
      ],
      "metadata": {
        "id": "cnen-6ZD9ZWc"
      }
    },
    {
      "cell_type": "code",
      "source": [
        "scoreListDT = []\n",
        "for i in range(2,21):\n",
        "    DTclassifier = DecisionTreeClassifier(max_leaf_nodes=i)\n",
        "    DTclassifier.fit(X_train, y_train)\n",
        "    scoreListDT.append(DTclassifier.score(X_test, y_test))\n",
        "\n",
        "plt.plot(range(2,21), scoreListDT)\n",
        "plt.xticks(np.arange(2,21,1))\n",
        "plt.xlabel(\"Leaf\")\n",
        "plt.ylabel(\"Score\")\n",
        "plt.show()\n",
        "DTAcc = max(scoreListDT)\n",
        "print(\"Decision Tree Accuracy: {:.2f}%\".format(DTAcc*100))"
      ],
      "metadata": {
        "id": "twABLtSw9icG",
        "execution": {
          "iopub.status.busy": "2022-03-08T02:28:45.860068Z",
          "iopub.execute_input": "2022-03-08T02:28:45.860894Z",
          "iopub.status.idle": "2022-03-08T02:28:46.411716Z",
          "shell.execute_reply.started": "2022-03-08T02:28:45.860842Z",
          "shell.execute_reply": "2022-03-08T02:28:46.410654Z"
        },
        "trusted": true
      },
      "execution_count": null,
      "outputs": []
    },
    {
      "cell_type": "markdown",
      "source": [
        "## 6.6 Random Forest"
      ],
      "metadata": {
        "id": "GfW_OJU69opG"
      }
    },
    {
      "cell_type": "code",
      "source": [
        "scoreListRF = []\n",
        "for i in range(2,25):\n",
        "    RFclassifier = RandomForestClassifier(n_estimators = 1000, random_state = 1, max_leaf_nodes=i)\n",
        "    RFclassifier.fit(X_train, y_train)\n",
        "    scoreListRF.append(RFclassifier.score(X_test, y_test))\n",
        "\n",
        "plt.plot(range(2,25), scoreListRF)\n",
        "plt.xticks(np.arange(2,25,1))\n",
        "plt.xlabel(\"RF Value\")\n",
        "plt.ylabel(\"Score\")\n",
        "plt.show()\n",
        "RFAcc = max(scoreListRF)\n",
        "print(\"Random Forest Accuracy:  {:.2f}%\".format(RFAcc*100))"
      ],
      "metadata": {
        "id": "TnLwqYnP9pD7",
        "execution": {
          "iopub.status.busy": "2022-03-08T02:28:46.412985Z",
          "iopub.execute_input": "2022-03-08T02:28:46.413245Z",
          "iopub.status.idle": "2022-03-08T02:29:19.705356Z",
          "shell.execute_reply.started": "2022-03-08T02:28:46.413213Z",
          "shell.execute_reply": "2022-03-08T02:29:19.704417Z"
        },
        "trusted": true
      },
      "execution_count": null,
      "outputs": []
    },
    {
      "cell_type": "markdown",
      "source": [
        "## 6.7 Gradient Boosting"
      ],
      "metadata": {
        "id": "2AszJDft-gc6"
      }
    },
    {
      "cell_type": "code",
      "source": [
        "paramsGB={'n_estimators':[100,200,300,400,500],\n",
        "      'max_depth':[1,2,3,4,5],\n",
        "      'subsample':[0.5,1],\n",
        "      'max_leaf_nodes':[2,5,10,20,30,40,50]}"
      ],
      "metadata": {
        "id": "Ev-NFeI0-WcW",
        "execution": {
          "iopub.status.busy": "2022-03-08T02:29:19.706813Z",
          "iopub.execute_input": "2022-03-08T02:29:19.707335Z",
          "iopub.status.idle": "2022-03-08T02:29:19.714536Z",
          "shell.execute_reply.started": "2022-03-08T02:29:19.707288Z",
          "shell.execute_reply": "2022-03-08T02:29:19.712973Z"
        },
        "trusted": true
      },
      "execution_count": null,
      "outputs": []
    },
    {
      "cell_type": "code",
      "source": [
        "GB = RandomizedSearchCV(GradientBoostingClassifier(), paramsGB, cv=20)\n",
        "GB.fit(X_train, y_train)"
      ],
      "metadata": {
        "id": "r46JuovY-j9z",
        "execution": {
          "iopub.status.busy": "2022-03-08T02:29:19.716086Z",
          "iopub.execute_input": "2022-03-08T02:29:19.716538Z",
          "iopub.status.idle": "2022-03-08T02:29:58.801788Z",
          "shell.execute_reply.started": "2022-03-08T02:29:19.716488Z",
          "shell.execute_reply": "2022-03-08T02:29:58.800888Z"
        },
        "trusted": true
      },
      "execution_count": null,
      "outputs": []
    },
    {
      "cell_type": "code",
      "source": [
        "print(GB.best_estimator_)\n",
        "print(GB.best_score_)\n",
        "print(GB.best_params_)\n",
        "print(GB.best_index_)"
      ],
      "metadata": {
        "id": "y-rIVPNu-qyZ",
        "execution": {
          "iopub.status.busy": "2022-03-08T02:29:58.802937Z",
          "iopub.execute_input": "2022-03-08T02:29:58.803165Z",
          "iopub.status.idle": "2022-03-08T02:29:58.80953Z",
          "shell.execute_reply.started": "2022-03-08T02:29:58.803123Z",
          "shell.execute_reply": "2022-03-08T02:29:58.808579Z"
        },
        "trusted": true
      },
      "execution_count": null,
      "outputs": []
    },
    {
      "cell_type": "code",
      "source": [
        "GBclassifier = GradientBoostingClassifier(subsample=0.5, n_estimators=400, max_depth=4, max_leaf_nodes=10)\n",
        "GBclassifier.fit(X_train, y_train)\n",
        "\n",
        "y_pred = GBclassifier.predict(X_test)\n",
        "\n",
        "print(classification_report(y_test, y_pred))\n",
        "print(confusion_matrix(y_test, y_pred))\n",
        "\n",
        "from sklearn.metrics import accuracy_score\n",
        "GBAcc = accuracy_score(y_pred,y_test)\n",
        "print('Gradient Boosting accuracy: {:.2f}%'.format(GBAcc*100))"
      ],
      "metadata": {
        "id": "anLZFMBWAPAG",
        "execution": {
          "iopub.status.busy": "2022-03-08T02:29:58.811156Z",
          "iopub.execute_input": "2022-03-08T02:29:58.811818Z",
          "iopub.status.idle": "2022-03-08T02:29:59.167884Z",
          "shell.execute_reply.started": "2022-03-08T02:29:58.811774Z",
          "shell.execute_reply": "2022-03-08T02:29:59.166931Z"
        },
        "trusted": true
      },
      "execution_count": null,
      "outputs": []
    },
    {
      "cell_type": "markdown",
      "source": [
        "# 7. Model Comparison 👀"
      ],
      "metadata": {
        "id": "x1vw6r9ICK8J"
      }
    },
    {
      "cell_type": "code",
      "source": [
        "compare = pd.DataFrame({'Model': ['Logistic Regression', 'K Neighbors',\n",
        "                                  'SVM', 'Categorical NB',\n",
        "                                  'Gaussian NB', 'Decision Tree',\n",
        "                                  'Random Forest', 'Gradient Boost'],\n",
        "                        'Accuracy': [LRAcc*100, KNAcc*100, SVCAcc*100,\n",
        "                                     NBAcc1*100, NBAcc2*100, DTAcc*100,\n",
        "                                     RFAcc*100, GBAcc*100]})\n",
        "compare.sort_values(by='Accuracy', ascending=False)"
      ],
      "metadata": {
        "id": "SGzOLxRMArx0",
        "execution": {
          "iopub.status.busy": "2022-03-08T02:29:59.169277Z",
          "iopub.execute_input": "2022-03-08T02:29:59.169877Z",
          "iopub.status.idle": "2022-03-08T02:29:59.184409Z",
          "shell.execute_reply.started": "2022-03-08T02:29:59.169833Z",
          "shell.execute_reply": "2022-03-08T02:29:59.183302Z"
        },
        "trusted": true
      },
      "execution_count": null,
      "outputs": []
    },
    {
      "cell_type": "markdown",
      "source": [
        "👉 In general, it can be seen that **all models can achieve up to 70% accuracy**. <br>\n",
        "👉 The highest accuracy is **93%%**. <br><br>\n",
        "👉 If you have any suggestions to **improve** these models, we can *discuss in the comments* :)."
      ],
      "metadata": {
        "id": "_5Iao5hYCOsI"
      }
    },
    {
      "cell_type": "markdown",
      "source": [
        "---\n",
        "\n",
        "**Like this notebook? You can support me by giving upvote** 😆👍🔼 <br>\n",
        "👉 *More about myself: [linktr.ee/caesarmario_](http://linktr.ee/caesarmario_)*<br><br>\n",
        "#### 🎈 Check out my work on GitHub using similar data sets with SAS studio [here](https://github.com/caesarmario/loan-prediction-SAS-studio)."
      ],
      "metadata": {
        "id": "tf0kRFipOPzx"
      }
    }
  ]
}